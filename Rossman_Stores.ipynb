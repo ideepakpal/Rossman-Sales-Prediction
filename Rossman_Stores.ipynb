{
  "cells": [
    {
      "cell_type": "markdown",
      "metadata": {
        "id": "view-in-github",
        "colab_type": "text"
      },
      "source": [
        "<a href=\"https://colab.research.google.com/github/palnitin12345/Rossman-Sales-Prediction/blob/main/Rossman_Stores.ipynb\" target=\"_parent\"><img src=\"https://colab.research.google.com/assets/colab-badge.svg\" alt=\"Open In Colab\"/></a>"
      ]
    },
    {
      "cell_type": "markdown",
      "source": [
        "# **Project Name**    - Rossman Stores Sales Prediction\n",
        "\n"
      ],
      "metadata": {
        "id": "vncDsAP0Gaoa"
      }
    },
    {
      "cell_type": "markdown",
      "source": [
        "##### **Project Type**    - Regression\n",
        "##### **Contribution**    - Individual\n",
        "##### **Made by -**Nitin Pal\n"
      ],
      "metadata": {
        "id": "LUT8OFgbMxD3"
      }
    },
    {
      "cell_type": "markdown",
      "source": [
        "# **Project Summary -**"
      ],
      "metadata": {
        "id": "VlyRVvUIMxD4"
      }
    },
    {
      "cell_type": "markdown",
      "source": [
        "Rossman is based in European continent operating over 3000 drug stores. Currently they predict six weeks of sales in advance. The sales are influeneced by many factors like competition distance, promotions running, school, state holiday and locality. In this project we build a model based on the given data to predict the sales of the stores and get some insights like on which day store must be open for better sales."
      ],
      "metadata": {
        "id": "DVZRsTxdM9zC"
      }
    },
    {
      "cell_type": "markdown",
      "source": [
        "# **GitHub Link -**"
      ],
      "metadata": {
        "id": "v1m2HS9nMxD5"
      }
    },
    {
      "cell_type": "markdown",
      "source": [
        "https://github.com/palnitin12345/Rossman-Sales-Prediction.git"
      ],
      "metadata": {
        "id": "oY-BbohvMxD5"
      }
    },
    {
      "cell_type": "markdown",
      "source": [
        "# **Problem Statement**\n"
      ],
      "metadata": {
        "id": "b3Psbu2sMxD5"
      }
    },
    {
      "cell_type": "markdown",
      "source": [
        "**Predicting sales of Rossman stores**"
      ],
      "metadata": {
        "id": "Oy9KtBmVMxD6"
      }
    },
    {
      "cell_type": "markdown",
      "source": [
        "# Main code"
      ],
      "metadata": {
        "id": "zq0FESU8NVRR"
      }
    },
    {
      "cell_type": "markdown",
      "metadata": {
        "id": "ugi1Xn7H83mX"
      },
      "source": [
        "##**1. Know Your Data**"
      ]
    },
    {
      "cell_type": "code",
      "execution_count": 1,
      "metadata": {
        "id": "m_w6EftB1Can"
      },
      "outputs": [],
      "source": [
        "#Importing libraries\n",
        "\n",
        "import numpy as np\n",
        "import pandas as pd\n",
        "\n",
        "import matplotlib.pyplot as plt\n",
        "import seaborn as sns\n",
        "\n",
        "from numpy import math\n",
        "from scipy import stats\n",
        "\n",
        "import datetime\n",
        "from datetime import datetime, timedelta\n",
        "\n",
        "import warnings\n",
        "warnings.filterwarnings(\"ignore\")\n",
        "from sklearn import preprocessing\n",
        "\n",
        "from sklearn.linear_model import Ridge, RidgeCV\n",
        "from sklearn.linear_model import Lasso, LassoCV\n",
        "\n",
        "from sklearn.preprocessing import MinMaxScaler\n",
        "from sklearn.model_selection import train_test_split\n",
        "from sklearn.linear_model import LinearRegression\n",
        "from sklearn.metrics import r2_score\n",
        "from sklearn.metrics import mean_squared_error\n",
        "\n",
        "import requests\n",
        "import io"
      ]
    },
    {
      "cell_type": "code",
      "source": [
        "# Downloading the csv file from your GitHub account\n",
        "\n",
        "url = \"https://raw.githubusercontent.com/palnitin12345/Rossman-Sales-Prediction/main/Rossmann_Stores_Data.csv\" # Make sure the url is the raw version of the file on GitHub\n",
        "download = requests.get(url).content\n",
        "\n",
        "url1 = \"https://raw.githubusercontent.com/palnitin12345/Rossman-Sales-Prediction/main/store.csv\" # Make sure the url is the raw version of the file on GitHub\n",
        "download1 = requests.get(url1).content\n",
        "\n",
        "# Reading the downloaded content and turning it into a pandas dataframe\n",
        "\n",
        "data1 = pd.read_csv(io.StringIO(download.decode('utf-8')))\n",
        "data2 = pd.read_csv(io.StringIO(download1.decode('utf-8')))"
      ],
      "metadata": {
        "id": "917Ms5HBZCJI"
      },
      "execution_count": 2,
      "outputs": []
    },
    {
      "cell_type": "code",
      "execution_count": 3,
      "metadata": {
        "id": "FTlGowDF1qKA",
        "colab": {
          "base_uri": "https://localhost:8080/",
          "height": 206
        },
        "outputId": "fb812f12-e4ac-4992-9f2a-d3787cd45925"
      },
      "outputs": [
        {
          "output_type": "execute_result",
          "data": {
            "text/plain": [
              "   Store  DayOfWeek        Date  Sales  Customers  Open  Promo StateHoliday  \\\n",
              "0      1          5  2015-07-31   5263        555     1      1            0   \n",
              "1      2          5  2015-07-31   6064        625     1      1            0   \n",
              "2      3          5  2015-07-31   8314        821     1      1            0   \n",
              "3      4          5  2015-07-31  13995       1498     1      1            0   \n",
              "4      5          5  2015-07-31   4822        559     1      1            0   \n",
              "\n",
              "   SchoolHoliday  \n",
              "0              1  \n",
              "1              1  \n",
              "2              1  \n",
              "3              1  \n",
              "4              1  "
            ],
            "text/html": [
              "\n",
              "  <div id=\"df-d4a33f88-6df3-4f08-b7ea-5b215689f143\">\n",
              "    <div class=\"colab-df-container\">\n",
              "      <div>\n",
              "<style scoped>\n",
              "    .dataframe tbody tr th:only-of-type {\n",
              "        vertical-align: middle;\n",
              "    }\n",
              "\n",
              "    .dataframe tbody tr th {\n",
              "        vertical-align: top;\n",
              "    }\n",
              "\n",
              "    .dataframe thead th {\n",
              "        text-align: right;\n",
              "    }\n",
              "</style>\n",
              "<table border=\"1\" class=\"dataframe\">\n",
              "  <thead>\n",
              "    <tr style=\"text-align: right;\">\n",
              "      <th></th>\n",
              "      <th>Store</th>\n",
              "      <th>DayOfWeek</th>\n",
              "      <th>Date</th>\n",
              "      <th>Sales</th>\n",
              "      <th>Customers</th>\n",
              "      <th>Open</th>\n",
              "      <th>Promo</th>\n",
              "      <th>StateHoliday</th>\n",
              "      <th>SchoolHoliday</th>\n",
              "    </tr>\n",
              "  </thead>\n",
              "  <tbody>\n",
              "    <tr>\n",
              "      <th>0</th>\n",
              "      <td>1</td>\n",
              "      <td>5</td>\n",
              "      <td>2015-07-31</td>\n",
              "      <td>5263</td>\n",
              "      <td>555</td>\n",
              "      <td>1</td>\n",
              "      <td>1</td>\n",
              "      <td>0</td>\n",
              "      <td>1</td>\n",
              "    </tr>\n",
              "    <tr>\n",
              "      <th>1</th>\n",
              "      <td>2</td>\n",
              "      <td>5</td>\n",
              "      <td>2015-07-31</td>\n",
              "      <td>6064</td>\n",
              "      <td>625</td>\n",
              "      <td>1</td>\n",
              "      <td>1</td>\n",
              "      <td>0</td>\n",
              "      <td>1</td>\n",
              "    </tr>\n",
              "    <tr>\n",
              "      <th>2</th>\n",
              "      <td>3</td>\n",
              "      <td>5</td>\n",
              "      <td>2015-07-31</td>\n",
              "      <td>8314</td>\n",
              "      <td>821</td>\n",
              "      <td>1</td>\n",
              "      <td>1</td>\n",
              "      <td>0</td>\n",
              "      <td>1</td>\n",
              "    </tr>\n",
              "    <tr>\n",
              "      <th>3</th>\n",
              "      <td>4</td>\n",
              "      <td>5</td>\n",
              "      <td>2015-07-31</td>\n",
              "      <td>13995</td>\n",
              "      <td>1498</td>\n",
              "      <td>1</td>\n",
              "      <td>1</td>\n",
              "      <td>0</td>\n",
              "      <td>1</td>\n",
              "    </tr>\n",
              "    <tr>\n",
              "      <th>4</th>\n",
              "      <td>5</td>\n",
              "      <td>5</td>\n",
              "      <td>2015-07-31</td>\n",
              "      <td>4822</td>\n",
              "      <td>559</td>\n",
              "      <td>1</td>\n",
              "      <td>1</td>\n",
              "      <td>0</td>\n",
              "      <td>1</td>\n",
              "    </tr>\n",
              "  </tbody>\n",
              "</table>\n",
              "</div>\n",
              "      <button class=\"colab-df-convert\" onclick=\"convertToInteractive('df-d4a33f88-6df3-4f08-b7ea-5b215689f143')\"\n",
              "              title=\"Convert this dataframe to an interactive table.\"\n",
              "              style=\"display:none;\">\n",
              "        \n",
              "  <svg xmlns=\"http://www.w3.org/2000/svg\" height=\"24px\"viewBox=\"0 0 24 24\"\n",
              "       width=\"24px\">\n",
              "    <path d=\"M0 0h24v24H0V0z\" fill=\"none\"/>\n",
              "    <path d=\"M18.56 5.44l.94 2.06.94-2.06 2.06-.94-2.06-.94-.94-2.06-.94 2.06-2.06.94zm-11 1L8.5 8.5l.94-2.06 2.06-.94-2.06-.94L8.5 2.5l-.94 2.06-2.06.94zm10 10l.94 2.06.94-2.06 2.06-.94-2.06-.94-.94-2.06-.94 2.06-2.06.94z\"/><path d=\"M17.41 7.96l-1.37-1.37c-.4-.4-.92-.59-1.43-.59-.52 0-1.04.2-1.43.59L10.3 9.45l-7.72 7.72c-.78.78-.78 2.05 0 2.83L4 21.41c.39.39.9.59 1.41.59.51 0 1.02-.2 1.41-.59l7.78-7.78 2.81-2.81c.8-.78.8-2.07 0-2.86zM5.41 20L4 18.59l7.72-7.72 1.47 1.35L5.41 20z\"/>\n",
              "  </svg>\n",
              "      </button>\n",
              "      \n",
              "  <style>\n",
              "    .colab-df-container {\n",
              "      display:flex;\n",
              "      flex-wrap:wrap;\n",
              "      gap: 12px;\n",
              "    }\n",
              "\n",
              "    .colab-df-convert {\n",
              "      background-color: #E8F0FE;\n",
              "      border: none;\n",
              "      border-radius: 50%;\n",
              "      cursor: pointer;\n",
              "      display: none;\n",
              "      fill: #1967D2;\n",
              "      height: 32px;\n",
              "      padding: 0 0 0 0;\n",
              "      width: 32px;\n",
              "    }\n",
              "\n",
              "    .colab-df-convert:hover {\n",
              "      background-color: #E2EBFA;\n",
              "      box-shadow: 0px 1px 2px rgba(60, 64, 67, 0.3), 0px 1px 3px 1px rgba(60, 64, 67, 0.15);\n",
              "      fill: #174EA6;\n",
              "    }\n",
              "\n",
              "    [theme=dark] .colab-df-convert {\n",
              "      background-color: #3B4455;\n",
              "      fill: #D2E3FC;\n",
              "    }\n",
              "\n",
              "    [theme=dark] .colab-df-convert:hover {\n",
              "      background-color: #434B5C;\n",
              "      box-shadow: 0px 1px 3px 1px rgba(0, 0, 0, 0.15);\n",
              "      filter: drop-shadow(0px 1px 2px rgba(0, 0, 0, 0.3));\n",
              "      fill: #FFFFFF;\n",
              "    }\n",
              "  </style>\n",
              "\n",
              "      <script>\n",
              "        const buttonEl =\n",
              "          document.querySelector('#df-d4a33f88-6df3-4f08-b7ea-5b215689f143 button.colab-df-convert');\n",
              "        buttonEl.style.display =\n",
              "          google.colab.kernel.accessAllowed ? 'block' : 'none';\n",
              "\n",
              "        async function convertToInteractive(key) {\n",
              "          const element = document.querySelector('#df-d4a33f88-6df3-4f08-b7ea-5b215689f143');\n",
              "          const dataTable =\n",
              "            await google.colab.kernel.invokeFunction('convertToInteractive',\n",
              "                                                     [key], {});\n",
              "          if (!dataTable) return;\n",
              "\n",
              "          const docLinkHtml = 'Like what you see? Visit the ' +\n",
              "            '<a target=\"_blank\" href=https://colab.research.google.com/notebooks/data_table.ipynb>data table notebook</a>'\n",
              "            + ' to learn more about interactive tables.';\n",
              "          element.innerHTML = '';\n",
              "          dataTable['output_type'] = 'display_data';\n",
              "          await google.colab.output.renderOutput(dataTable, element);\n",
              "          const docLink = document.createElement('div');\n",
              "          docLink.innerHTML = docLinkHtml;\n",
              "          element.appendChild(docLink);\n",
              "        }\n",
              "      </script>\n",
              "    </div>\n",
              "  </div>\n",
              "  "
            ]
          },
          "metadata": {},
          "execution_count": 3
        }
      ],
      "source": [
        "#First look of the data.\n",
        "data1.head()"
      ]
    },
    {
      "cell_type": "code",
      "execution_count": 4,
      "metadata": {
        "id": "Cy448RQDo-KS",
        "colab": {
          "base_uri": "https://localhost:8080/",
          "height": 206
        },
        "outputId": "efa24d74-fc01-4c4a-931d-cfcea747f4d0"
      },
      "outputs": [
        {
          "output_type": "execute_result",
          "data": {
            "text/plain": [
              "   Store StoreType Assortment  CompetitionDistance  CompetitionOpenSinceMonth  \\\n",
              "0      1         c          a               1270.0                        9.0   \n",
              "1      2         a          a                570.0                       11.0   \n",
              "2      3         a          a              14130.0                       12.0   \n",
              "3      4         c          c                620.0                        9.0   \n",
              "4      5         a          a              29910.0                        4.0   \n",
              "\n",
              "   CompetitionOpenSinceYear  Promo2  Promo2SinceWeek  Promo2SinceYear  \\\n",
              "0                    2008.0       0              NaN              NaN   \n",
              "1                    2007.0       1             13.0           2010.0   \n",
              "2                    2006.0       1             14.0           2011.0   \n",
              "3                    2009.0       0              NaN              NaN   \n",
              "4                    2015.0       0              NaN              NaN   \n",
              "\n",
              "     PromoInterval  \n",
              "0              NaN  \n",
              "1  Jan,Apr,Jul,Oct  \n",
              "2  Jan,Apr,Jul,Oct  \n",
              "3              NaN  \n",
              "4              NaN  "
            ],
            "text/html": [
              "\n",
              "  <div id=\"df-b0b5c2cd-bb88-479a-913b-ac35f98fd063\">\n",
              "    <div class=\"colab-df-container\">\n",
              "      <div>\n",
              "<style scoped>\n",
              "    .dataframe tbody tr th:only-of-type {\n",
              "        vertical-align: middle;\n",
              "    }\n",
              "\n",
              "    .dataframe tbody tr th {\n",
              "        vertical-align: top;\n",
              "    }\n",
              "\n",
              "    .dataframe thead th {\n",
              "        text-align: right;\n",
              "    }\n",
              "</style>\n",
              "<table border=\"1\" class=\"dataframe\">\n",
              "  <thead>\n",
              "    <tr style=\"text-align: right;\">\n",
              "      <th></th>\n",
              "      <th>Store</th>\n",
              "      <th>StoreType</th>\n",
              "      <th>Assortment</th>\n",
              "      <th>CompetitionDistance</th>\n",
              "      <th>CompetitionOpenSinceMonth</th>\n",
              "      <th>CompetitionOpenSinceYear</th>\n",
              "      <th>Promo2</th>\n",
              "      <th>Promo2SinceWeek</th>\n",
              "      <th>Promo2SinceYear</th>\n",
              "      <th>PromoInterval</th>\n",
              "    </tr>\n",
              "  </thead>\n",
              "  <tbody>\n",
              "    <tr>\n",
              "      <th>0</th>\n",
              "      <td>1</td>\n",
              "      <td>c</td>\n",
              "      <td>a</td>\n",
              "      <td>1270.0</td>\n",
              "      <td>9.0</td>\n",
              "      <td>2008.0</td>\n",
              "      <td>0</td>\n",
              "      <td>NaN</td>\n",
              "      <td>NaN</td>\n",
              "      <td>NaN</td>\n",
              "    </tr>\n",
              "    <tr>\n",
              "      <th>1</th>\n",
              "      <td>2</td>\n",
              "      <td>a</td>\n",
              "      <td>a</td>\n",
              "      <td>570.0</td>\n",
              "      <td>11.0</td>\n",
              "      <td>2007.0</td>\n",
              "      <td>1</td>\n",
              "      <td>13.0</td>\n",
              "      <td>2010.0</td>\n",
              "      <td>Jan,Apr,Jul,Oct</td>\n",
              "    </tr>\n",
              "    <tr>\n",
              "      <th>2</th>\n",
              "      <td>3</td>\n",
              "      <td>a</td>\n",
              "      <td>a</td>\n",
              "      <td>14130.0</td>\n",
              "      <td>12.0</td>\n",
              "      <td>2006.0</td>\n",
              "      <td>1</td>\n",
              "      <td>14.0</td>\n",
              "      <td>2011.0</td>\n",
              "      <td>Jan,Apr,Jul,Oct</td>\n",
              "    </tr>\n",
              "    <tr>\n",
              "      <th>3</th>\n",
              "      <td>4</td>\n",
              "      <td>c</td>\n",
              "      <td>c</td>\n",
              "      <td>620.0</td>\n",
              "      <td>9.0</td>\n",
              "      <td>2009.0</td>\n",
              "      <td>0</td>\n",
              "      <td>NaN</td>\n",
              "      <td>NaN</td>\n",
              "      <td>NaN</td>\n",
              "    </tr>\n",
              "    <tr>\n",
              "      <th>4</th>\n",
              "      <td>5</td>\n",
              "      <td>a</td>\n",
              "      <td>a</td>\n",
              "      <td>29910.0</td>\n",
              "      <td>4.0</td>\n",
              "      <td>2015.0</td>\n",
              "      <td>0</td>\n",
              "      <td>NaN</td>\n",
              "      <td>NaN</td>\n",
              "      <td>NaN</td>\n",
              "    </tr>\n",
              "  </tbody>\n",
              "</table>\n",
              "</div>\n",
              "      <button class=\"colab-df-convert\" onclick=\"convertToInteractive('df-b0b5c2cd-bb88-479a-913b-ac35f98fd063')\"\n",
              "              title=\"Convert this dataframe to an interactive table.\"\n",
              "              style=\"display:none;\">\n",
              "        \n",
              "  <svg xmlns=\"http://www.w3.org/2000/svg\" height=\"24px\"viewBox=\"0 0 24 24\"\n",
              "       width=\"24px\">\n",
              "    <path d=\"M0 0h24v24H0V0z\" fill=\"none\"/>\n",
              "    <path d=\"M18.56 5.44l.94 2.06.94-2.06 2.06-.94-2.06-.94-.94-2.06-.94 2.06-2.06.94zm-11 1L8.5 8.5l.94-2.06 2.06-.94-2.06-.94L8.5 2.5l-.94 2.06-2.06.94zm10 10l.94 2.06.94-2.06 2.06-.94-2.06-.94-.94-2.06-.94 2.06-2.06.94z\"/><path d=\"M17.41 7.96l-1.37-1.37c-.4-.4-.92-.59-1.43-.59-.52 0-1.04.2-1.43.59L10.3 9.45l-7.72 7.72c-.78.78-.78 2.05 0 2.83L4 21.41c.39.39.9.59 1.41.59.51 0 1.02-.2 1.41-.59l7.78-7.78 2.81-2.81c.8-.78.8-2.07 0-2.86zM5.41 20L4 18.59l7.72-7.72 1.47 1.35L5.41 20z\"/>\n",
              "  </svg>\n",
              "      </button>\n",
              "      \n",
              "  <style>\n",
              "    .colab-df-container {\n",
              "      display:flex;\n",
              "      flex-wrap:wrap;\n",
              "      gap: 12px;\n",
              "    }\n",
              "\n",
              "    .colab-df-convert {\n",
              "      background-color: #E8F0FE;\n",
              "      border: none;\n",
              "      border-radius: 50%;\n",
              "      cursor: pointer;\n",
              "      display: none;\n",
              "      fill: #1967D2;\n",
              "      height: 32px;\n",
              "      padding: 0 0 0 0;\n",
              "      width: 32px;\n",
              "    }\n",
              "\n",
              "    .colab-df-convert:hover {\n",
              "      background-color: #E2EBFA;\n",
              "      box-shadow: 0px 1px 2px rgba(60, 64, 67, 0.3), 0px 1px 3px 1px rgba(60, 64, 67, 0.15);\n",
              "      fill: #174EA6;\n",
              "    }\n",
              "\n",
              "    [theme=dark] .colab-df-convert {\n",
              "      background-color: #3B4455;\n",
              "      fill: #D2E3FC;\n",
              "    }\n",
              "\n",
              "    [theme=dark] .colab-df-convert:hover {\n",
              "      background-color: #434B5C;\n",
              "      box-shadow: 0px 1px 3px 1px rgba(0, 0, 0, 0.15);\n",
              "      filter: drop-shadow(0px 1px 2px rgba(0, 0, 0, 0.3));\n",
              "      fill: #FFFFFF;\n",
              "    }\n",
              "  </style>\n",
              "\n",
              "      <script>\n",
              "        const buttonEl =\n",
              "          document.querySelector('#df-b0b5c2cd-bb88-479a-913b-ac35f98fd063 button.colab-df-convert');\n",
              "        buttonEl.style.display =\n",
              "          google.colab.kernel.accessAllowed ? 'block' : 'none';\n",
              "\n",
              "        async function convertToInteractive(key) {\n",
              "          const element = document.querySelector('#df-b0b5c2cd-bb88-479a-913b-ac35f98fd063');\n",
              "          const dataTable =\n",
              "            await google.colab.kernel.invokeFunction('convertToInteractive',\n",
              "                                                     [key], {});\n",
              "          if (!dataTable) return;\n",
              "\n",
              "          const docLinkHtml = 'Like what you see? Visit the ' +\n",
              "            '<a target=\"_blank\" href=https://colab.research.google.com/notebooks/data_table.ipynb>data table notebook</a>'\n",
              "            + ' to learn more about interactive tables.';\n",
              "          element.innerHTML = '';\n",
              "          dataTable['output_type'] = 'display_data';\n",
              "          await google.colab.output.renderOutput(dataTable, element);\n",
              "          const docLink = document.createElement('div');\n",
              "          docLink.innerHTML = docLinkHtml;\n",
              "          element.appendChild(docLink);\n",
              "        }\n",
              "      </script>\n",
              "    </div>\n",
              "  </div>\n",
              "  "
            ]
          },
          "metadata": {},
          "execution_count": 4
        }
      ],
      "source": [
        "data2.head()"
      ]
    },
    {
      "cell_type": "code",
      "execution_count": null,
      "metadata": {
        "id": "Vn_Ep0ePv6-B",
        "colab": {
          "base_uri": "https://localhost:8080/"
        },
        "outputId": "2afb4a03-3ff9-4af9-a674-bd8b637d726d"
      },
      "outputs": [
        {
          "output_type": "stream",
          "name": "stdout",
          "text": [
            "Shape of first dataset (1017209, 9)\n",
            "Shape of second dataset (1115, 10)\n"
          ]
        }
      ],
      "source": [
        "# Dataset Rows & Columns count\n",
        "\n",
        "print(f'Shape of first dataset {data1.shape}')\n",
        "print(f'Shape of second dataset {data2.shape}')"
      ]
    },
    {
      "cell_type": "code",
      "execution_count": null,
      "metadata": {
        "id": "z0vNz8GcpGW6"
      },
      "outputs": [],
      "source": [
        "#Merging both the dataframes based on Store id.\n",
        "\n",
        "dataset = data1.merge(data2, on = 'Store',how = 'left')"
      ]
    },
    {
      "cell_type": "code",
      "execution_count": null,
      "metadata": {
        "id": "Ud-pnWfxv9QR",
        "colab": {
          "base_uri": "https://localhost:8080/"
        },
        "outputId": "c5de984f-2cce-4395-ee65-61ca38601899"
      },
      "outputs": [
        {
          "output_type": "stream",
          "name": "stdout",
          "text": [
            "Shape of second dataset (1017209, 18)\n"
          ]
        }
      ],
      "source": [
        "print(f'Shape of second dataset {dataset.shape}')"
      ]
    },
    {
      "cell_type": "code",
      "execution_count": null,
      "metadata": {
        "id": "-ibvZu6SuM8C",
        "colab": {
          "base_uri": "https://localhost:8080/"
        },
        "outputId": "b299f403-c375-40e5-f68a-e2a892c3df33"
      },
      "outputs": [
        {
          "output_type": "stream",
          "name": "stdout",
          "text": [
            "<class 'pandas.core.frame.DataFrame'>\n",
            "Int64Index: 1017209 entries, 0 to 1017208\n",
            "Data columns (total 18 columns):\n",
            " #   Column                     Non-Null Count    Dtype  \n",
            "---  ------                     --------------    -----  \n",
            " 0   Store                      1017209 non-null  int64  \n",
            " 1   DayOfWeek                  1017209 non-null  int64  \n",
            " 2   Date                       1017209 non-null  object \n",
            " 3   Sales                      1017209 non-null  int64  \n",
            " 4   Customers                  1017209 non-null  int64  \n",
            " 5   Open                       1017209 non-null  int64  \n",
            " 6   Promo                      1017209 non-null  int64  \n",
            " 7   StateHoliday               1017209 non-null  object \n",
            " 8   SchoolHoliday              1017209 non-null  int64  \n",
            " 9   StoreType                  1017209 non-null  object \n",
            " 10  Assortment                 1017209 non-null  object \n",
            " 11  CompetitionDistance        1014567 non-null  float64\n",
            " 12  CompetitionOpenSinceMonth  693861 non-null   float64\n",
            " 13  CompetitionOpenSinceYear   693861 non-null   float64\n",
            " 14  Promo2                     1017209 non-null  int64  \n",
            " 15  Promo2SinceWeek            509178 non-null   float64\n",
            " 16  Promo2SinceYear            509178 non-null   float64\n",
            " 17  PromoInterval              509178 non-null   object \n",
            "dtypes: float64(5), int64(8), object(5)\n",
            "memory usage: 147.5+ MB\n"
          ]
        }
      ],
      "source": [
        "#Looking the datatypes\n",
        "\n",
        "dataset.info()"
      ]
    },
    {
      "cell_type": "markdown",
      "metadata": {
        "id": "RLI6XtOrmiG-"
      },
      "source": [
        "Duplicate Values"
      ]
    },
    {
      "cell_type": "code",
      "execution_count": null,
      "metadata": {
        "colab": {
          "base_uri": "https://localhost:8080/"
        },
        "id": "mhpjE42peP9s",
        "outputId": "ca7d3565-8df7-4414-981e-71a3d5f6d96b"
      },
      "outputs": [
        {
          "output_type": "execute_result",
          "data": {
            "text/plain": [
              "0"
            ]
          },
          "metadata": {},
          "execution_count": 12
        }
      ],
      "source": [
        "\n",
        "#Number of duplicated Rows\n",
        "\n",
        "len(dataset[dataset.duplicated()])"
      ]
    },
    {
      "cell_type": "markdown",
      "metadata": {
        "id": "iFN5O2DdmqsG"
      },
      "source": [
        "Missing/Null Values"
      ]
    },
    {
      "cell_type": "code",
      "execution_count": null,
      "metadata": {
        "colab": {
          "base_uri": "https://localhost:8080/"
        },
        "id": "HhP2nqRITQq7",
        "outputId": "5a884c6f-66f3-408b-e8f6-c9eeb6defc2c"
      },
      "outputs": [
        {
          "output_type": "stream",
          "name": "stdout",
          "text": [
            "Col     Null values percent\n",
            "CompetitionDistance  :- 0.26\n",
            "CompetitionOpenSinceMonth  :- 31.79\n",
            "CompetitionOpenSinceYear  :- 31.79\n",
            "Promo2SinceWeek  :- 49.94\n",
            "Promo2SinceYear  :- 49.94\n",
            "PromoInterval  :- 49.94\n"
          ]
        }
      ],
      "source": [
        "#Finding null columns in the dataset and percentage of null values.\n",
        "print(\"Col     Null values percent\")\n",
        "for col in dataset.columns:\n",
        "  if dataset[col].notnull().sum() != len(dataset):\n",
        "    print(f\"{col}  :- {round(dataset[col].isnull().sum()*100/len(dataset),2)}\")"
      ]
    },
    {
      "cell_type": "markdown",
      "metadata": {
        "id": "H0kj-8xxnORC"
      },
      "source": [
        "### What did you know about your dataset?"
      ]
    },
    {
      "cell_type": "markdown",
      "source": [],
      "metadata": {
        "id": "3zooYvbrOYWn"
      }
    },
    {
      "cell_type": "markdown",
      "metadata": {
        "id": "FALGCf65SCfm"
      },
      "source": [
        "##**2. Understanding the variables**"
      ]
    },
    {
      "cell_type": "code",
      "execution_count": null,
      "metadata": {
        "colab": {
          "base_uri": "https://localhost:8080/"
        },
        "id": "n87BaXA_42-R",
        "outputId": "6ae469d3-b81f-4758-89e6-47a529662e08"
      },
      "outputs": [
        {
          "output_type": "execute_result",
          "data": {
            "text/plain": [
              "Index(['Store', 'DayOfWeek', 'Date', 'Sales', 'Customers', 'Open', 'Promo',\n",
              "       'StateHoliday', 'SchoolHoliday', 'StoreType', 'Assortment',\n",
              "       'CompetitionDistance', 'CompetitionOpenSinceMonth',\n",
              "       'CompetitionOpenSinceYear', 'Promo2', 'Promo2SinceWeek',\n",
              "       'Promo2SinceYear', 'PromoInterval'],\n",
              "      dtype='object')"
            ]
          },
          "metadata": {},
          "execution_count": 14
        }
      ],
      "source": [
        "# Dataset Columns\n",
        "\n",
        "dataset.columns"
      ]
    },
    {
      "cell_type": "code",
      "execution_count": null,
      "metadata": {
        "colab": {
          "base_uri": "https://localhost:8080/"
        },
        "id": "DnOaZdaE5Q5t",
        "outputId": "cbb9a676-71b7-435a-d684-18597414aa15"
      },
      "outputs": [
        {
          "output_type": "execute_result",
          "data": {
            "text/plain": [
              "               Store     DayOfWeek        Date         Sales     Customers  \\\n",
              "count   1.017209e+06  1.017209e+06     1017209  1.017209e+06  1.017209e+06   \n",
              "unique           NaN           NaN         942           NaN           NaN   \n",
              "top              NaN           NaN  2015-07-31           NaN           NaN   \n",
              "freq             NaN           NaN        1115           NaN           NaN   \n",
              "mean    5.584297e+02  3.998341e+00         NaN  5.773819e+03  6.331459e+02   \n",
              "std     3.219087e+02  1.997391e+00         NaN  3.849926e+03  4.644117e+02   \n",
              "min     1.000000e+00  1.000000e+00         NaN  0.000000e+00  0.000000e+00   \n",
              "25%     2.800000e+02  2.000000e+00         NaN  3.727000e+03  4.050000e+02   \n",
              "50%     5.580000e+02  4.000000e+00         NaN  5.744000e+03  6.090000e+02   \n",
              "75%     8.380000e+02  6.000000e+00         NaN  7.856000e+03  8.370000e+02   \n",
              "max     1.115000e+03  7.000000e+00         NaN  4.155100e+04  7.388000e+03   \n",
              "\n",
              "                Open         Promo StateHoliday  SchoolHoliday StoreType  \\\n",
              "count   1.017209e+06  1.017209e+06      1017209   1.017209e+06   1017209   \n",
              "unique           NaN           NaN            5            NaN         4   \n",
              "top              NaN           NaN            0            NaN         a   \n",
              "freq             NaN           NaN       855087            NaN    551627   \n",
              "mean    8.301067e-01  3.815145e-01          NaN   1.786467e-01       NaN   \n",
              "std     3.755392e-01  4.857586e-01          NaN   3.830564e-01       NaN   \n",
              "min     0.000000e+00  0.000000e+00          NaN   0.000000e+00       NaN   \n",
              "25%     1.000000e+00  0.000000e+00          NaN   0.000000e+00       NaN   \n",
              "50%     1.000000e+00  0.000000e+00          NaN   0.000000e+00       NaN   \n",
              "75%     1.000000e+00  1.000000e+00          NaN   0.000000e+00       NaN   \n",
              "max     1.000000e+00  1.000000e+00          NaN   1.000000e+00       NaN   \n",
              "\n",
              "       Assortment  CompetitionDistance  CompetitionOpenSinceMonth  \\\n",
              "count     1017209         1.014567e+06              693861.000000   \n",
              "unique          3                  NaN                        NaN   \n",
              "top             a                  NaN                        NaN   \n",
              "freq       537445                  NaN                        NaN   \n",
              "mean          NaN         5.430086e+03                   7.222866   \n",
              "std           NaN         7.715324e+03                   3.211832   \n",
              "min           NaN         2.000000e+01                   1.000000   \n",
              "25%           NaN         7.100000e+02                   4.000000   \n",
              "50%           NaN         2.330000e+03                   8.000000   \n",
              "75%           NaN         6.890000e+03                  10.000000   \n",
              "max           NaN         7.586000e+04                  12.000000   \n",
              "\n",
              "        CompetitionOpenSinceYear        Promo2  Promo2SinceWeek  \\\n",
              "count              693861.000000  1.017209e+06    509178.000000   \n",
              "unique                       NaN           NaN              NaN   \n",
              "top                          NaN           NaN              NaN   \n",
              "freq                         NaN           NaN              NaN   \n",
              "mean                 2008.690228  5.005638e-01        23.269093   \n",
              "std                     5.992644  4.999999e-01        14.095973   \n",
              "min                  1900.000000  0.000000e+00         1.000000   \n",
              "25%                  2006.000000  0.000000e+00        13.000000   \n",
              "50%                  2010.000000  1.000000e+00        22.000000   \n",
              "75%                  2013.000000  1.000000e+00        37.000000   \n",
              "max                  2015.000000  1.000000e+00        50.000000   \n",
              "\n",
              "        Promo2SinceYear    PromoInterval  \n",
              "count     509178.000000           509178  \n",
              "unique              NaN                3  \n",
              "top                 NaN  Jan,Apr,Jul,Oct  \n",
              "freq                NaN           293122  \n",
              "mean        2011.752774              NaN  \n",
              "std            1.662870              NaN  \n",
              "min         2009.000000              NaN  \n",
              "25%         2011.000000              NaN  \n",
              "50%         2012.000000              NaN  \n",
              "75%         2013.000000              NaN  \n",
              "max         2015.000000              NaN  "
            ],
            "text/html": [
              "\n",
              "  <div id=\"df-d40232e6-1034-45e7-8211-d24422021c5f\">\n",
              "    <div class=\"colab-df-container\">\n",
              "      <div>\n",
              "<style scoped>\n",
              "    .dataframe tbody tr th:only-of-type {\n",
              "        vertical-align: middle;\n",
              "    }\n",
              "\n",
              "    .dataframe tbody tr th {\n",
              "        vertical-align: top;\n",
              "    }\n",
              "\n",
              "    .dataframe thead th {\n",
              "        text-align: right;\n",
              "    }\n",
              "</style>\n",
              "<table border=\"1\" class=\"dataframe\">\n",
              "  <thead>\n",
              "    <tr style=\"text-align: right;\">\n",
              "      <th></th>\n",
              "      <th>Store</th>\n",
              "      <th>DayOfWeek</th>\n",
              "      <th>Date</th>\n",
              "      <th>Sales</th>\n",
              "      <th>Customers</th>\n",
              "      <th>Open</th>\n",
              "      <th>Promo</th>\n",
              "      <th>StateHoliday</th>\n",
              "      <th>SchoolHoliday</th>\n",
              "      <th>StoreType</th>\n",
              "      <th>Assortment</th>\n",
              "      <th>CompetitionDistance</th>\n",
              "      <th>CompetitionOpenSinceMonth</th>\n",
              "      <th>CompetitionOpenSinceYear</th>\n",
              "      <th>Promo2</th>\n",
              "      <th>Promo2SinceWeek</th>\n",
              "      <th>Promo2SinceYear</th>\n",
              "      <th>PromoInterval</th>\n",
              "    </tr>\n",
              "  </thead>\n",
              "  <tbody>\n",
              "    <tr>\n",
              "      <th>count</th>\n",
              "      <td>1.017209e+06</td>\n",
              "      <td>1.017209e+06</td>\n",
              "      <td>1017209</td>\n",
              "      <td>1.017209e+06</td>\n",
              "      <td>1.017209e+06</td>\n",
              "      <td>1.017209e+06</td>\n",
              "      <td>1.017209e+06</td>\n",
              "      <td>1017209</td>\n",
              "      <td>1.017209e+06</td>\n",
              "      <td>1017209</td>\n",
              "      <td>1017209</td>\n",
              "      <td>1.014567e+06</td>\n",
              "      <td>693861.000000</td>\n",
              "      <td>693861.000000</td>\n",
              "      <td>1.017209e+06</td>\n",
              "      <td>509178.000000</td>\n",
              "      <td>509178.000000</td>\n",
              "      <td>509178</td>\n",
              "    </tr>\n",
              "    <tr>\n",
              "      <th>unique</th>\n",
              "      <td>NaN</td>\n",
              "      <td>NaN</td>\n",
              "      <td>942</td>\n",
              "      <td>NaN</td>\n",
              "      <td>NaN</td>\n",
              "      <td>NaN</td>\n",
              "      <td>NaN</td>\n",
              "      <td>5</td>\n",
              "      <td>NaN</td>\n",
              "      <td>4</td>\n",
              "      <td>3</td>\n",
              "      <td>NaN</td>\n",
              "      <td>NaN</td>\n",
              "      <td>NaN</td>\n",
              "      <td>NaN</td>\n",
              "      <td>NaN</td>\n",
              "      <td>NaN</td>\n",
              "      <td>3</td>\n",
              "    </tr>\n",
              "    <tr>\n",
              "      <th>top</th>\n",
              "      <td>NaN</td>\n",
              "      <td>NaN</td>\n",
              "      <td>2015-07-31</td>\n",
              "      <td>NaN</td>\n",
              "      <td>NaN</td>\n",
              "      <td>NaN</td>\n",
              "      <td>NaN</td>\n",
              "      <td>0</td>\n",
              "      <td>NaN</td>\n",
              "      <td>a</td>\n",
              "      <td>a</td>\n",
              "      <td>NaN</td>\n",
              "      <td>NaN</td>\n",
              "      <td>NaN</td>\n",
              "      <td>NaN</td>\n",
              "      <td>NaN</td>\n",
              "      <td>NaN</td>\n",
              "      <td>Jan,Apr,Jul,Oct</td>\n",
              "    </tr>\n",
              "    <tr>\n",
              "      <th>freq</th>\n",
              "      <td>NaN</td>\n",
              "      <td>NaN</td>\n",
              "      <td>1115</td>\n",
              "      <td>NaN</td>\n",
              "      <td>NaN</td>\n",
              "      <td>NaN</td>\n",
              "      <td>NaN</td>\n",
              "      <td>855087</td>\n",
              "      <td>NaN</td>\n",
              "      <td>551627</td>\n",
              "      <td>537445</td>\n",
              "      <td>NaN</td>\n",
              "      <td>NaN</td>\n",
              "      <td>NaN</td>\n",
              "      <td>NaN</td>\n",
              "      <td>NaN</td>\n",
              "      <td>NaN</td>\n",
              "      <td>293122</td>\n",
              "    </tr>\n",
              "    <tr>\n",
              "      <th>mean</th>\n",
              "      <td>5.584297e+02</td>\n",
              "      <td>3.998341e+00</td>\n",
              "      <td>NaN</td>\n",
              "      <td>5.773819e+03</td>\n",
              "      <td>6.331459e+02</td>\n",
              "      <td>8.301067e-01</td>\n",
              "      <td>3.815145e-01</td>\n",
              "      <td>NaN</td>\n",
              "      <td>1.786467e-01</td>\n",
              "      <td>NaN</td>\n",
              "      <td>NaN</td>\n",
              "      <td>5.430086e+03</td>\n",
              "      <td>7.222866</td>\n",
              "      <td>2008.690228</td>\n",
              "      <td>5.005638e-01</td>\n",
              "      <td>23.269093</td>\n",
              "      <td>2011.752774</td>\n",
              "      <td>NaN</td>\n",
              "    </tr>\n",
              "    <tr>\n",
              "      <th>std</th>\n",
              "      <td>3.219087e+02</td>\n",
              "      <td>1.997391e+00</td>\n",
              "      <td>NaN</td>\n",
              "      <td>3.849926e+03</td>\n",
              "      <td>4.644117e+02</td>\n",
              "      <td>3.755392e-01</td>\n",
              "      <td>4.857586e-01</td>\n",
              "      <td>NaN</td>\n",
              "      <td>3.830564e-01</td>\n",
              "      <td>NaN</td>\n",
              "      <td>NaN</td>\n",
              "      <td>7.715324e+03</td>\n",
              "      <td>3.211832</td>\n",
              "      <td>5.992644</td>\n",
              "      <td>4.999999e-01</td>\n",
              "      <td>14.095973</td>\n",
              "      <td>1.662870</td>\n",
              "      <td>NaN</td>\n",
              "    </tr>\n",
              "    <tr>\n",
              "      <th>min</th>\n",
              "      <td>1.000000e+00</td>\n",
              "      <td>1.000000e+00</td>\n",
              "      <td>NaN</td>\n",
              "      <td>0.000000e+00</td>\n",
              "      <td>0.000000e+00</td>\n",
              "      <td>0.000000e+00</td>\n",
              "      <td>0.000000e+00</td>\n",
              "      <td>NaN</td>\n",
              "      <td>0.000000e+00</td>\n",
              "      <td>NaN</td>\n",
              "      <td>NaN</td>\n",
              "      <td>2.000000e+01</td>\n",
              "      <td>1.000000</td>\n",
              "      <td>1900.000000</td>\n",
              "      <td>0.000000e+00</td>\n",
              "      <td>1.000000</td>\n",
              "      <td>2009.000000</td>\n",
              "      <td>NaN</td>\n",
              "    </tr>\n",
              "    <tr>\n",
              "      <th>25%</th>\n",
              "      <td>2.800000e+02</td>\n",
              "      <td>2.000000e+00</td>\n",
              "      <td>NaN</td>\n",
              "      <td>3.727000e+03</td>\n",
              "      <td>4.050000e+02</td>\n",
              "      <td>1.000000e+00</td>\n",
              "      <td>0.000000e+00</td>\n",
              "      <td>NaN</td>\n",
              "      <td>0.000000e+00</td>\n",
              "      <td>NaN</td>\n",
              "      <td>NaN</td>\n",
              "      <td>7.100000e+02</td>\n",
              "      <td>4.000000</td>\n",
              "      <td>2006.000000</td>\n",
              "      <td>0.000000e+00</td>\n",
              "      <td>13.000000</td>\n",
              "      <td>2011.000000</td>\n",
              "      <td>NaN</td>\n",
              "    </tr>\n",
              "    <tr>\n",
              "      <th>50%</th>\n",
              "      <td>5.580000e+02</td>\n",
              "      <td>4.000000e+00</td>\n",
              "      <td>NaN</td>\n",
              "      <td>5.744000e+03</td>\n",
              "      <td>6.090000e+02</td>\n",
              "      <td>1.000000e+00</td>\n",
              "      <td>0.000000e+00</td>\n",
              "      <td>NaN</td>\n",
              "      <td>0.000000e+00</td>\n",
              "      <td>NaN</td>\n",
              "      <td>NaN</td>\n",
              "      <td>2.330000e+03</td>\n",
              "      <td>8.000000</td>\n",
              "      <td>2010.000000</td>\n",
              "      <td>1.000000e+00</td>\n",
              "      <td>22.000000</td>\n",
              "      <td>2012.000000</td>\n",
              "      <td>NaN</td>\n",
              "    </tr>\n",
              "    <tr>\n",
              "      <th>75%</th>\n",
              "      <td>8.380000e+02</td>\n",
              "      <td>6.000000e+00</td>\n",
              "      <td>NaN</td>\n",
              "      <td>7.856000e+03</td>\n",
              "      <td>8.370000e+02</td>\n",
              "      <td>1.000000e+00</td>\n",
              "      <td>1.000000e+00</td>\n",
              "      <td>NaN</td>\n",
              "      <td>0.000000e+00</td>\n",
              "      <td>NaN</td>\n",
              "      <td>NaN</td>\n",
              "      <td>6.890000e+03</td>\n",
              "      <td>10.000000</td>\n",
              "      <td>2013.000000</td>\n",
              "      <td>1.000000e+00</td>\n",
              "      <td>37.000000</td>\n",
              "      <td>2013.000000</td>\n",
              "      <td>NaN</td>\n",
              "    </tr>\n",
              "    <tr>\n",
              "      <th>max</th>\n",
              "      <td>1.115000e+03</td>\n",
              "      <td>7.000000e+00</td>\n",
              "      <td>NaN</td>\n",
              "      <td>4.155100e+04</td>\n",
              "      <td>7.388000e+03</td>\n",
              "      <td>1.000000e+00</td>\n",
              "      <td>1.000000e+00</td>\n",
              "      <td>NaN</td>\n",
              "      <td>1.000000e+00</td>\n",
              "      <td>NaN</td>\n",
              "      <td>NaN</td>\n",
              "      <td>7.586000e+04</td>\n",
              "      <td>12.000000</td>\n",
              "      <td>2015.000000</td>\n",
              "      <td>1.000000e+00</td>\n",
              "      <td>50.000000</td>\n",
              "      <td>2015.000000</td>\n",
              "      <td>NaN</td>\n",
              "    </tr>\n",
              "  </tbody>\n",
              "</table>\n",
              "</div>\n",
              "      <button class=\"colab-df-convert\" onclick=\"convertToInteractive('df-d40232e6-1034-45e7-8211-d24422021c5f')\"\n",
              "              title=\"Convert this dataframe to an interactive table.\"\n",
              "              style=\"display:none;\">\n",
              "        \n",
              "  <svg xmlns=\"http://www.w3.org/2000/svg\" height=\"24px\"viewBox=\"0 0 24 24\"\n",
              "       width=\"24px\">\n",
              "    <path d=\"M0 0h24v24H0V0z\" fill=\"none\"/>\n",
              "    <path d=\"M18.56 5.44l.94 2.06.94-2.06 2.06-.94-2.06-.94-.94-2.06-.94 2.06-2.06.94zm-11 1L8.5 8.5l.94-2.06 2.06-.94-2.06-.94L8.5 2.5l-.94 2.06-2.06.94zm10 10l.94 2.06.94-2.06 2.06-.94-2.06-.94-.94-2.06-.94 2.06-2.06.94z\"/><path d=\"M17.41 7.96l-1.37-1.37c-.4-.4-.92-.59-1.43-.59-.52 0-1.04.2-1.43.59L10.3 9.45l-7.72 7.72c-.78.78-.78 2.05 0 2.83L4 21.41c.39.39.9.59 1.41.59.51 0 1.02-.2 1.41-.59l7.78-7.78 2.81-2.81c.8-.78.8-2.07 0-2.86zM5.41 20L4 18.59l7.72-7.72 1.47 1.35L5.41 20z\"/>\n",
              "  </svg>\n",
              "      </button>\n",
              "      \n",
              "  <style>\n",
              "    .colab-df-container {\n",
              "      display:flex;\n",
              "      flex-wrap:wrap;\n",
              "      gap: 12px;\n",
              "    }\n",
              "\n",
              "    .colab-df-convert {\n",
              "      background-color: #E8F0FE;\n",
              "      border: none;\n",
              "      border-radius: 50%;\n",
              "      cursor: pointer;\n",
              "      display: none;\n",
              "      fill: #1967D2;\n",
              "      height: 32px;\n",
              "      padding: 0 0 0 0;\n",
              "      width: 32px;\n",
              "    }\n",
              "\n",
              "    .colab-df-convert:hover {\n",
              "      background-color: #E2EBFA;\n",
              "      box-shadow: 0px 1px 2px rgba(60, 64, 67, 0.3), 0px 1px 3px 1px rgba(60, 64, 67, 0.15);\n",
              "      fill: #174EA6;\n",
              "    }\n",
              "\n",
              "    [theme=dark] .colab-df-convert {\n",
              "      background-color: #3B4455;\n",
              "      fill: #D2E3FC;\n",
              "    }\n",
              "\n",
              "    [theme=dark] .colab-df-convert:hover {\n",
              "      background-color: #434B5C;\n",
              "      box-shadow: 0px 1px 3px 1px rgba(0, 0, 0, 0.15);\n",
              "      filter: drop-shadow(0px 1px 2px rgba(0, 0, 0, 0.3));\n",
              "      fill: #FFFFFF;\n",
              "    }\n",
              "  </style>\n",
              "\n",
              "      <script>\n",
              "        const buttonEl =\n",
              "          document.querySelector('#df-d40232e6-1034-45e7-8211-d24422021c5f button.colab-df-convert');\n",
              "        buttonEl.style.display =\n",
              "          google.colab.kernel.accessAllowed ? 'block' : 'none';\n",
              "\n",
              "        async function convertToInteractive(key) {\n",
              "          const element = document.querySelector('#df-d40232e6-1034-45e7-8211-d24422021c5f');\n",
              "          const dataTable =\n",
              "            await google.colab.kernel.invokeFunction('convertToInteractive',\n",
              "                                                     [key], {});\n",
              "          if (!dataTable) return;\n",
              "\n",
              "          const docLinkHtml = 'Like what you see? Visit the ' +\n",
              "            '<a target=\"_blank\" href=https://colab.research.google.com/notebooks/data_table.ipynb>data table notebook</a>'\n",
              "            + ' to learn more about interactive tables.';\n",
              "          element.innerHTML = '';\n",
              "          dataTable['output_type'] = 'display_data';\n",
              "          await google.colab.output.renderOutput(dataTable, element);\n",
              "          const docLink = document.createElement('div');\n",
              "          docLink.innerHTML = docLinkHtml;\n",
              "          element.appendChild(docLink);\n",
              "        }\n",
              "      </script>\n",
              "    </div>\n",
              "  </div>\n",
              "  "
            ]
          },
          "metadata": {},
          "execution_count": 15
        }
      ],
      "source": [
        "# Dataset Describe\n",
        "\n",
        "dataset.describe(include='all')"
      ]
    },
    {
      "cell_type": "markdown",
      "metadata": {
        "id": "uUsP-iFjn99B"
      },
      "source": [
        "Variables Description "
      ]
    },
    {
      "cell_type": "markdown",
      "metadata": {
        "id": "7YemwMsly5At"
      },
      "source": [
        "1. Store           : unique ID\n",
        "\n",
        "2. Open            : 0 = store closed, 1 = store open\n",
        "\n",
        "3. StateHoliday    : holiday. a = public holiday, b = Easter holiday, c =       Christmas, 0 = None\n",
        "\n",
        "4. SchoolHoliday   : the closure of public schools\n",
        "\n",
        "5. StoreType       : a, b, c, d\n",
        "\n",
        "6. Assortment      : assortment level, a = basic, b = extra, c = extended\n",
        "\n",
        "7. Promo           : store is running a promo on that day\n",
        "\n",
        "8. Promo2          : 0 = store not participating, 1 = store is participating\n",
        "\n",
        "9. CompetitionOpenSince[Month/Year]  : approximate year and month of the time, the nearest competitor store was opened\n",
        "\n",
        "10. Promo2Since[Year/Week]            : describes the year and calendar week when the store started participating in Promo2\n",
        "\n",
        "11. PromoInterval   : describes the consecutive intervals Promo2 is started, naming the months the promotion is started anew.\n",
        "\n",
        "12. DayOfWeek       : Day of the week, using 1-7 for Mon-Sat\n",
        "\n",
        "13. Date            : Date in YYYY-MM-DD\n",
        "\n",
        "\n",
        "14. Sales           : the number of sales of the store that day\n",
        "\n",
        "15. Customers       : number of customers\n",
        "\n",
        "16. CompetitionDistance :   distance to the nearest competitor store\n",
        "\n"
      ]
    },
    {
      "cell_type": "markdown",
      "metadata": {
        "id": "KfagvPpeoDpj"
      },
      "source": [
        "Unique Values"
      ]
    },
    {
      "cell_type": "code",
      "execution_count": null,
      "metadata": {
        "colab": {
          "base_uri": "https://localhost:8080/"
        },
        "id": "_OVX3QgQeP3j",
        "outputId": "04bf61f9-6dea-49c0-8d9d-4a2e5a390492"
      },
      "outputs": [
        {
          "output_type": "stream",
          "name": "stdout",
          "text": [
            "No. of unique values in  Store is 1115\n",
            "No. of unique values in  DayOfWeek is 7\n",
            "No. of unique values in  Date is 942\n",
            "No. of unique values in  Sales is 21734\n",
            "No. of unique values in  Customers is 4086\n",
            "No. of unique values in  Open is 2\n",
            "No. of unique values in  Promo is 2\n",
            "No. of unique values in  StateHoliday is 5\n",
            "No. of unique values in  SchoolHoliday is 2\n",
            "No. of unique values in  StoreType is 4\n",
            "No. of unique values in  Assortment is 3\n",
            "No. of unique values in  CompetitionDistance is 654\n",
            "No. of unique values in  CompetitionOpenSinceMonth is 12\n",
            "No. of unique values in  CompetitionOpenSinceYear is 23\n",
            "No. of unique values in  Promo2 is 2\n",
            "No. of unique values in  Promo2SinceWeek is 24\n",
            "No. of unique values in  Promo2SinceYear is 7\n",
            "No. of unique values in  PromoInterval is 3\n"
          ]
        }
      ],
      "source": [
        "# Check Unique Values for each variable.\n",
        "for i in dataset.columns.tolist():\n",
        "  print(\"No. of unique values in \",i,\"is\",dataset[i].nunique(),)"
      ]
    },
    {
      "cell_type": "code",
      "execution_count": null,
      "metadata": {
        "colab": {
          "base_uri": "https://localhost:8080/"
        },
        "id": "AjSE067CeP0z",
        "outputId": "78b86f05-3956-42ab-9858-7eb5076785e7"
      },
      "outputs": [
        {
          "output_type": "stream",
          "name": "stdout",
          "text": [
            "DayOfWeek\n",
            "5    145845\n",
            "4    145845\n",
            "3    145665\n",
            "2    145664\n",
            "1    144730\n",
            "7    144730\n",
            "6    144730\n",
            "Name: DayOfWeek, dtype: int64\n",
            "\n",
            "Open\n",
            "1    844392\n",
            "0    172817\n",
            "Name: Open, dtype: int64\n",
            "\n",
            "Promo\n",
            "0    629129\n",
            "1    388080\n",
            "Name: Promo, dtype: int64\n",
            "\n",
            "StateHoliday\n",
            "0    855087\n",
            "0    131072\n",
            "a     20260\n",
            "b      6690\n",
            "c      4100\n",
            "Name: StateHoliday, dtype: int64\n",
            "\n",
            "SchoolHoliday\n",
            "0    835488\n",
            "1    181721\n",
            "Name: SchoolHoliday, dtype: int64\n",
            "\n",
            "StoreType\n",
            "a    551627\n",
            "d    312912\n",
            "c    136840\n",
            "b     15830\n",
            "Name: StoreType, dtype: int64\n",
            "\n",
            "Assortment\n",
            "a    537445\n",
            "c    471470\n",
            "b      8294\n",
            "Name: Assortment, dtype: int64\n",
            "\n",
            "Promo2\n",
            "1    509178\n",
            "0    508031\n",
            "Name: Promo2, dtype: int64\n",
            "\n",
            "Promo2SinceYear\n",
            "2011.0    115056\n",
            "2013.0    110464\n",
            "2014.0     79922\n",
            "2012.0     73174\n",
            "2009.0     65270\n",
            "2010.0     56240\n",
            "2015.0      9052\n",
            "Name: Promo2SinceYear, dtype: int64\n",
            "\n",
            "PromoInterval\n",
            "Jan,Apr,Jul,Oct     293122\n",
            "Feb,May,Aug,Nov     118596\n",
            "Mar,Jun,Sept,Dec     97460\n",
            "Name: PromoInterval, dtype: int64\n",
            "\n"
          ]
        }
      ],
      "source": [
        "#Columns that are categorical in nature\n",
        "\n",
        "for col in dataset.columns:\n",
        "  if dataset[col].nunique()<=10:\n",
        "    print(col)\n",
        "    print(dataset[col].value_counts())\n",
        "    print('')"
      ]
    },
    {
      "cell_type": "markdown",
      "metadata": {
        "id": "rwE8cdtFovhJ"
      },
      "source": [
        "##***3. Data Wrangling***"
      ]
    },
    {
      "cell_type": "code",
      "execution_count": null,
      "metadata": {
        "id": "ZP125P0WC-O4"
      },
      "outputs": [],
      "source": [
        "#State Holiday column has some datatype errors, correcting them.\n",
        "\n",
        "dataset['StateHoliday'].replace('0','d', inplace=True)\n",
        "dataset['StateHoliday'].replace(0,'d', inplace=True)\n"
      ]
    },
    {
      "cell_type": "markdown",
      "metadata": {
        "id": "7WwcBqaqrwML"
      },
      "source": [
        "####Handling Null/Missing values"
      ]
    },
    {
      "cell_type": "markdown",
      "metadata": {
        "id": "9fdtTRWSFOLv"
      },
      "source": [
        "**Competition Distance**"
      ]
    },
    {
      "cell_type": "code",
      "execution_count": null,
      "metadata": {
        "id": "YOHTq6ViEkCl"
      },
      "outputs": [],
      "source": [
        "#%age of null values in Competition Distance column is\n",
        "\n",
        "dataset['CompetitionDistance'].isnull().sum()*100/len(dataset['CompetitionDistance'])\n",
        "\n",
        "#Treating Null Values\n",
        "\n",
        "#Column CompetitionDistance has some null values, so replacing those null values with median of the columnn\n",
        "\n",
        "dataset['CompetitionDistance'].fillna(dataset['CompetitionDistance'].median(), inplace=True)\n"
      ]
    },
    {
      "cell_type": "markdown",
      "metadata": {
        "id": "xKaBrz20k2r5"
      },
      "source": [
        "**Competition Open Since Year and Month**"
      ]
    },
    {
      "cell_type": "code",
      "execution_count": null,
      "metadata": {
        "id": "sh8yocFUwk_T"
      },
      "outputs": [],
      "source": [
        "#Column CompetitionOpenSinceMonth and CompetitionOpenSinceYear has some null values, so replacing those null values with mode of the respective columnns.\n",
        "\n",
        "\n",
        "dataset['CompetitionOpenSinceMonth'].fillna(dataset['CompetitionOpenSinceMonth'].mode()[0],inplace=True)\n",
        "\n",
        "\n",
        "dataset['CompetitionOpenSinceYear'].fillna(dataset['CompetitionOpenSinceYear'].mode()[0],inplace=True)"
      ]
    },
    {
      "cell_type": "code",
      "execution_count": null,
      "metadata": {
        "id": "EvfvBVUs6Oaf"
      },
      "outputs": [],
      "source": [
        "#Making a new column,Competition Age with zero values, which will store the years of Competition running.\n",
        "dataset['Competition_Age'] = 0\n",
        "\n",
        "#Converting the datatype to int.\n",
        "dataset['CompetitionOpenSinceMonth'] = dataset['CompetitionOpenSinceMonth'].astype(int)\n",
        "dataset['CompetitionOpenSinceYear'] = dataset['CompetitionOpenSinceYear'].astype(int)\n",
        "\n",
        "#making the reference timestamp of now.\n",
        "now = pd.Timestamp('now')\n",
        "\n",
        "#Merging the two columns to get the date like format\n",
        "dataset['Competition_temp'] = dataset['CompetitionOpenSinceMonth'].astype(str) + \"/\" + dataset['CompetitionOpenSinceYear'].astype(str)\n",
        "\n",
        "#Converting to datetime\n",
        "dataset['Competition_temp'] = pd.to_datetime(dataset['Competition_temp'])\n",
        "\n",
        "#getting the age of the competition.\n",
        "dataset['Competition_Age'] = (now - dataset['Competition_temp']).astype('<m8[Y]')\n",
        "\n",
        "#Dropping the unnecessary columns.\n",
        "dataset.drop(['CompetitionOpenSinceMonth','CompetitionOpenSinceYear','Competition_temp'],axis=1,inplace=True)"
      ]
    },
    {
      "cell_type": "markdown",
      "metadata": {
        "id": "WaYmnYR2iJdp"
      },
      "source": [
        "**Promo2**"
      ]
    },
    {
      "cell_type": "code",
      "execution_count": null,
      "metadata": {
        "id": "gdFFLi4d6N7K"
      },
      "outputs": [],
      "source": [
        "#making a function that takes a week number and results the month number.\n",
        "\n",
        "def week_to_month(t_week):\n",
        "  t_year = 2000              \n",
        "  date = str(t_year) + '-W' + str(t_week)\n",
        "  \n",
        "  # getting date\n",
        "  res = datetime.strptime(date + '-1', \"%Y-W%W-%w\")\n",
        "\n",
        "  return res.month"
      ]
    },
    {
      "cell_type": "code",
      "execution_count": null,
      "metadata": {
        "id": "vMAQCPEM6N1b"
      },
      "outputs": [],
      "source": [
        "#Now what I want to do is merge three columns Promo2 ones...by calculating the age since when the promo2 started,,, comparing with the sales..and age 0 will imply the store didn't run promo2.\n",
        "\n",
        "#Making a new column with zero values, Promo2_age, which will store for how much time, the store has been running promotion.\n",
        "dataset['Promo2_Age'] = 0\n",
        "\n",
        "#To avoid Valueerrors, filling empty places with 0\n",
        "dataset['Promo2SinceWeek'].fillna(0, inplace=True)\n",
        "dataset['Promo2SinceYear'].fillna(0, inplace=True)\n",
        "\n",
        "#Since both Promo2SinceWeek and Promo2SinceYear are datetime objects so, converting them to int from float for easy calculations.\n",
        "dataset['Promo2SinceWeek'] = dataset['Promo2SinceWeek'].astype(int)\n",
        "dataset['Promo2SinceYear'] = dataset['Promo2SinceYear'].astype(int)\n",
        "\n",
        "#Applying the function to convert weeks to months.\n",
        "dataset['Promo2SinceMonth'] = dataset['Promo2SinceWeek'].apply(lambda x: 0 if x==0 else week_to_month(x))\n",
        "\n",
        "#Combining both weeeks and years columns to get a date.\n",
        "dataset['Promo2_temp'] = dataset['Promo2SinceMonth'].astype(str) + \"/\" +dataset['Promo2SinceYear'].astype(str)\n",
        "\n",
        "#Replacing 0/0 values to 0.\n",
        "dataset['Promo2_temp'].replace('0/0',0, inplace=True)\n",
        "\n",
        "#Converting to datetime for calculating the age.\n",
        "dataset['Promo2_temp'] = pd.to_datetime(dataset['Promo2_temp'])\n",
        "\n",
        "#Calculating the age of Promo2 and saving the year only.\n",
        "dataset['Promo2_Age'] = (now - dataset['Promo2_temp']).astype('<m8[Y]') \n",
        "\n",
        "#Beacuse of null values some values showed 53, so replacing those with 0\n",
        "dataset['Promo2_Age'].replace(53.0,0,inplace=True)\n",
        "\n",
        "#Dropping the unecessary columns.\n",
        "dataset.drop(['Promo2SinceMonth','Promo2SinceYear', 'Promo2SinceWeek','Promo2_temp'],axis=1, inplace=True)"
      ]
    },
    {
      "cell_type": "markdown",
      "metadata": {
        "id": "SHC6HZDJlehI"
      },
      "source": [
        "**Date**"
      ]
    },
    {
      "cell_type": "code",
      "execution_count": null,
      "metadata": {
        "id": "1Dx4NpvetQCd"
      },
      "outputs": [],
      "source": [
        "#Here date is object-type, changing it in datetime type andn expanding columns.\n",
        "dataset[\"Date\"] =  pd.to_datetime(dataset[\"Date\"], format=\"%Y/%m/%d\")\n",
        "\n",
        "#Extracting month, quarter and year from the date\n",
        " \n",
        "dataset['Month'] = dataset['Date'].dt.month\n",
        "dataset['Year'] = dataset['Date'].dt.year\n",
        "dataset['Quarter'] = dataset['Date'].dt.quarter "
      ]
    },
    {
      "cell_type": "markdown",
      "metadata": {
        "id": "GF8Ens_Soomf"
      },
      "source": [
        "## ***4. Data Vizualization, Storytelling & Experimenting with charts : Understand the relationships between variables***\n",
        "\n"
      ]
    },
    {
      "cell_type": "markdown",
      "source": [
        "#### Chart -1 Sales, Customers and Competition Distance (Univariate)"
      ],
      "metadata": {
        "id": "AT4NhmK_GZne"
      }
    },
    {
      "cell_type": "code",
      "source": [
        "# Chart - 1 visualization code\n",
        "\n",
        "#Making a distplot of Sales column\n",
        "\n",
        "plt.subplots(1,1,figsize=(5,5))\n",
        "sns.distplot(dataset['Sales'])\n",
        "plt.show()\n",
        "\n",
        "# From the figure we can see that there is right skewness in Sales Column.\n",
        "print(f\"The skewness in Sales is:- { dataset['Sales'].skew() }\")\n",
        "print(f\"The value of kurtosis for Sales column is {dataset['Sales'].kurt()}\")\n",
        "\n",
        "\n",
        "#Making a distplot of Customers column\n",
        "\n",
        "plt.subplots(1,1,figsize=(5,5))\n",
        "sns.distplot(dataset['Customers'],color='red')\n",
        "plt.show()\n",
        "\n",
        "\n",
        "# From the figure we can see that there is right skewness in Customers Column.\n",
        "\n",
        "print(f\"The skewness in Customers is:- { dataset['Customers'].skew() }\")\n",
        "print(f\"The value of kurtosis for Customers column is {dataset['Customers'].kurt()}\")\n",
        "\n",
        "\n",
        "#Making a distplot of CompetitionDistance column\n",
        "\n",
        "plt.subplots(1,1,figsize=(5,5))\n",
        "sns.distplot(dataset['CompetitionDistance'], color = 'green')\n",
        "plt.show()\n",
        "\n",
        "\n",
        "# From the figure we can see that there is right skewness in Competition Distance Column.\n",
        "\n",
        "print(f\"The skewness in Competition Distance is:- { dataset['CompetitionDistance'].skew() }\")\n",
        "print(f\"The value of kurtosis for Competition Distance column is {dataset['CompetitionDistance'].kurt()}\")"
      ],
      "metadata": {
        "colab": {
          "base_uri": "https://localhost:8080/"
        },
        "id": "pJ06qnINGZnf",
        "outputId": "c046ed39-df0e-431e-fa50-2fbb7f219aa7"
      },
      "execution_count": null,
      "outputs": [
        {
          "output_type": "display_data",
          "data": {
            "text/plain": [
              "<Figure size 500x500 with 1 Axes>"
            ],
            "image/png": "[encoded data removed]"
          },
          "metadata": {}
        },
        {
          "output_type": "stream",
          "name": "stdout",
          "text": [
            "The skewness in Sales is:- 0.6414596158103787\n",
            "The value of kurtosis for Sales column is 1.7783747472372768\n"
          ]
        },
        {
          "output_type": "display_data",
          "data": {
            "text/plain": [
              "<Figure size 500x500 with 1 Axes>"
            ],
            "image/png": "[encoded data removed]"
          },
          "metadata": {}
        },
        {
          "output_type": "stream",
          "name": "stdout",
          "text": [
            "The skewness in Customers is:- 1.5986502899508919\n",
            "The value of kurtosis for Customers column is 7.091772717755949\n"
          ]
        },
        {
          "output_type": "display_data",
          "data": {
            "text/plain": [
              "<Figure size 500x500 with 1 Axes>"
            ],
            "image/png": "[encoded data removed]"
          },
          "metadata": {}
        },
        {
          "output_type": "stream",
          "name": "stdout",
          "text": [
            "The skewness in Competition Distance is:- 2.9334663226647555\n",
            "The value of kurtosis for Competition Distance column is 13.040562610287445\n"
          ]
        }
      ]
    },
    {
      "cell_type": "markdown",
      "source": [
        "1. Why did you pick the specific chart?"
      ],
      "metadata": {
        "id": "2AcIxv5ZGZnf"
      }
    },
    {
      "cell_type": "markdown",
      "source": [
        "We used the distplot because it represents the univariate distribution of data. i.e. data distribution of a variable against the density distribution. \n",
        "With the help of this plot we can easily see the skewness of each column independently."
      ],
      "metadata": {
        "id": "ZEIlhetUGZnf"
      }
    },
    {
      "cell_type": "markdown",
      "source": [
        " 2. What is/are the insight(s) found from the chart?"
      ],
      "metadata": {
        "id": "TQCA4XnGGZng"
      }
    },
    {
      "cell_type": "markdown",
      "source": [
        "We found that all the three continuous columns are highly positively skewed.\n",
        "The positively skewed distribution is a distribution where the mean, median, and mode of the distribution are positive rather than negative or zero, i.e., data distribution occurs more on the one side of the scale with a long tail on the right side. "
      ],
      "metadata": {
        "id": "HyOuIcMNGZng"
      }
    },
    {
      "cell_type": "markdown",
      "metadata": {
        "id": "1pWG4O6o62Bj"
      },
      "source": [
        "####Chart - 2 Stores running the promotion 1 and promotion 2 (Univariate)"
      ]
    },
    {
      "cell_type": "code",
      "execution_count": null,
      "metadata": {
        "colab": {
          "base_uri": "https://localhost:8080/"
        },
        "id": "8ZP0tPDp1pX3",
        "outputId": "fd8dce1b-e1f9-4742-ceb2-9fb19cec2e38"
      },
      "outputs": [
        {
          "output_type": "display_data",
          "data": {
            "text/plain": [
              "<Figure size 640x480 with 1 Axes>"
            ],
            "image/png": "[encoded data removed]"
          },
          "metadata": {}
        },
        {
          "output_type": "stream",
          "name": "stdout",
          "text": [
            "The number of stores running first promotion is:- 388080\n",
            "The number of stores not running first promotion is:- 629129\n"
          ]
        },
        {
          "output_type": "display_data",
          "data": {
            "text/plain": [
              "<Figure size 640x480 with 1 Axes>"
            ],
            "image/png": "[encoded data removed]"
          },
          "metadata": {}
        },
        {
          "output_type": "stream",
          "name": "stdout",
          "text": [
            "The number of stores running second promotion is:- 509178\n",
            "The number of stores not running second promotion is:- 508031\n"
          ]
        }
      ],
      "source": [
        "#Chart 2 - visualization code\n",
        "\n",
        "plt.subplot(2, 1, 1)\n",
        "dataset['Promo'].value_counts().sort_index().plot(kind='barh',color='gold')\n",
        "plt.title(\"Stores running Promotion series 1\")\n",
        "plt.show()\n",
        "\n",
        "print(f\"The number of stores running first promotion is:- {dataset['Promo'].value_counts()[1]}\")\n",
        "print(f\"The number of stores not running first promotion is:- {dataset['Promo'].value_counts()[0]}\")\n",
        "\n",
        "plt.subplot(2, 1, 2)\n",
        "dataset['Promo2'].value_counts().sort_index().plot(kind='barh',color='gold')\n",
        "plt.title(\"Stores running Promotion series 2\")\n",
        "plt.show()\n",
        "\n",
        "print(f\"The number of stores running second promotion is:- {dataset['Promo2'].value_counts()[1]}\")\n",
        "print(f\"The number of stores not running second promotion is:- {dataset['Promo2'].value_counts()[0]}\")\n"
      ]
    },
    {
      "cell_type": "markdown",
      "source": [
        "1. Why did you pick the specific chart?"
      ],
      "metadata": {
        "id": "JZcKOk_mPy9Z"
      }
    },
    {
      "cell_type": "markdown",
      "source": [
        "We have used horizontal bar graphs because the labels are easier to display. In addition, they are more suitable for display on a small space in the case of a large data set.\n",
        "A horizontal bar chart is a graph in the form of rectangular bars.\n",
        "The length of these bars is proportional to the values they represent. The vertical axis represents the categories being compared, while the horizontal axis represents a value.\n"
      ],
      "metadata": {
        "id": "0MMOEs-WPy9Z"
      }
    },
    {
      "cell_type": "markdown",
      "source": [
        " 2. What is/are the insight(s) found from the chart?"
      ],
      "metadata": {
        "id": "KrYeY0JdPy9Z"
      }
    },
    {
      "cell_type": "markdown",
      "source": [
        "From the above comparisons we found that more stores have run the second promotion. In the first promotion series only 388,080 stores ran the promotion but in the second series 509,178 ran the promotion. This is a very high jump."
      ],
      "metadata": {
        "id": "lHXCH-2HPy9Z"
      }
    },
    {
      "cell_type": "markdown",
      "source": [
        " 3. Will the gained insights help creating a positive business impact? \n",
        "Are there any insights that lead to negative growth? Justify with specific reason."
      ],
      "metadata": {
        "id": "a5Fo3o7iPy9Z"
      }
    },
    {
      "cell_type": "markdown",
      "source": [
        "We get to know that promotion brings sales that is why more stores participated in the second series. To create a positive growth of the stores, more promotion in as many as possible stores should be conducted. This would definitely increase the sales and result in increased revenue."
      ],
      "metadata": {
        "id": "s1soPf-sPy9a"
      }
    },
    {
      "cell_type": "markdown",
      "source": [
        "####Chart 3 - Promo Interval of second series promotion(Bivariate)"
      ],
      "metadata": {
        "id": "JCqJjrorePnu"
      }
    },
    {
      "cell_type": "code",
      "source": [
        "# Chart - 3 visualization code\n",
        "\n",
        "print(dataset['PromoInterval'].value_counts())\n",
        "dataset.groupby(['PromoInterval'])['Sales'].sum().sort_index().plot(kind=\"bar\", title = \"Sales in Promotion Series 2\", rot =0,figsize=(6, 3),ylabel = \"Overall Sales\",color='lightsteelblue')"
      ],
      "metadata": {
        "colab": {
          "base_uri": "https://localhost:8080/",
          "height": 420
        },
        "id": "p60ikhGneOs1",
        "outputId": "1922a5fe-3acd-412c-ad71-63a3d11afda2"
      },
      "execution_count": null,
      "outputs": [
        {
          "output_type": "stream",
          "name": "stdout",
          "text": [
            "Jan,Apr,Jul,Oct     293122\n",
            "Feb,May,Aug,Nov     118596\n",
            "Mar,Jun,Sept,Dec     97460\n",
            "Name: PromoInterval, dtype: int64\n"
          ]
        },
        {
          "output_type": "execute_result",
          "data": {
            "text/plain": [
              "<Axes: title={'center': 'Sales in Promotion Series 2'}, xlabel='PromoInterval', ylabel='Overall Sales'>"
            ]
          },
          "metadata": {},
          "execution_count": 27
        },
        {
          "output_type": "display_data",
          "data": {
            "text/plain": [
              "<Figure size 600x300 with 1 Axes>"
            ],
            "image/png": "[encoded data removed]"
          },
          "metadata": {}
        }
      ]
    },
    {
      "cell_type": "markdown",
      "source": [
        "1. Why did you pick the specific chart?"
      ],
      "metadata": {
        "id": "bLb3uNFzeWce"
      }
    },
    {
      "cell_type": "markdown",
      "source": [
        "We have chosen bar chart becuase it distinctly depicts the comparison of one age with another. We get a very clear idea of the difference between two classes in a bar chart.\n"
      ],
      "metadata": {
        "id": "RoRbyluXeWcf"
      }
    },
    {
      "cell_type": "markdown",
      "source": [
        " 2. What is/are the insight(s) found from the chart?"
      ],
      "metadata": {
        "id": "OJh_3Ku_eWcf"
      }
    },
    {
      "cell_type": "markdown",
      "source": [
        "We can see clearly that in the months of January, April, July and OCtober the sales are maximum in comparison to other two months. Rest eight months in other two categories have almost same sales. More sales in Jan can be accounted to new year sales , April has easter, November has thanks-giving And October has Holloween.\n",
        "\n"
      ],
      "metadata": {
        "id": "PW1Tm5LmeWcf"
      }
    },
    {
      "cell_type": "markdown",
      "source": [
        " 3. Will the gained insights help creating a positive business impact? \n",
        "Are there any insights that lead to negative growth? Justify with specific reason."
      ],
      "metadata": {
        "id": "OqycJeUCeWcg"
      }
    },
    {
      "cell_type": "markdown",
      "source": [
        "Since there are more sales in first category so the rossman should focus on maintaining this boost in the main four months. While on the other hand Rossman should do different type of promotions, because clearly what they have been doing hasn't been working. We can conclude that if we make products in stores festival oriented, the sales should surely increase."
      ],
      "metadata": {
        "id": "KyO6Dk8deWcg"
      }
    },
    {
      "cell_type": "markdown",
      "source": [
        "#### Chart 4 - Sales on School Holidays"
      ],
      "metadata": {
        "id": "s1UbFBOi3jCN"
      }
    },
    {
      "cell_type": "markdown",
      "metadata": {
        "id": "QLvNbLAlEcH7"
      },
      "source": [
        "\n",
        "> Q. Whether school-going children boosts the sales?\n",
        "\n",
        "\n",
        "**SchoolHoliday** - 0 - School Holiday, 1 - School open"
      ]
    },
    {
      "cell_type": "code",
      "execution_count": null,
      "metadata": {
        "id": "Qp6X_Q9YEE2a",
        "colab": {
          "base_uri": "https://localhost:8080/",
          "height": 428
        },
        "outputId": "66436942-feeb-45ce-d1b4-64924204d593"
      },
      "outputs": [
        {
          "output_type": "display_data",
          "data": {
            "text/plain": [
              "<Figure size 640x480 with 1 Axes>"
            ],
            "image/png": "[encoded data removed]"
          },
          "metadata": {}
        }
      ],
      "source": [
        "# Chart - 4 visualization code\n",
        "\n",
        "df6 = dataset.groupby(['SchoolHoliday'])['Sales'].mean().sort_values(ascending=False)\n",
        "lab = ['0 = School Holiday','1 = School Open']\n",
        "\n",
        "plt.pie(df6, labels = lab, shadow=True, wedgeprops = { 'linewidth' : 2, 'edgecolor' : 'white' }, colors= ['tomato','greenyellow'])\n",
        "plt.title(\"Sales on open and closed school days\")\n",
        "plt.show()"
      ]
    },
    {
      "cell_type": "markdown",
      "source": [
        "1. Why did you pick the specific chart?"
      ],
      "metadata": {
        "id": "7W9q_pNm3jCO"
      }
    },
    {
      "cell_type": "markdown",
      "source": [
        "We picked this chart because a pie chart helps organize and show data as a percentage of a whole. And clearly shows the dissimilarity between two levels."
      ],
      "metadata": {
        "id": "1YGy8uqE3jCO"
      }
    },
    {
      "cell_type": "markdown",
      "source": [
        " 2. What is/are the insight(s) found from the chart?"
      ],
      "metadata": {
        "id": "FWg1f-Xp3jCO"
      }
    },
    {
      "cell_type": "markdown",
      "source": [
        "The sales on school open and closed are nearly the same. There is not very big difference in sales. \n",
        "This tells us that student is not a big part of Rossman Stores consumer base.\n",
        "This can be accounted by the minimum age for buying drugs in the country."
      ],
      "metadata": {
        "id": "TDf2sjlD3jCO"
      }
    },
    {
      "cell_type": "markdown",
      "source": [
        " 3. Will the gained insights help creating a positive business impact? \n",
        "Are there any insights that lead to negative growth? Justify with specific reason."
      ],
      "metadata": {
        "id": "mknrDwAw3jCP"
      }
    },
    {
      "cell_type": "markdown",
      "source": [
        "Yes, for growing business information about audience and type of audience is very important. This gives a slight idea about the audience."
      ],
      "metadata": {
        "id": "K2Qd7JWa3jCP"
      }
    },
    {
      "cell_type": "markdown",
      "source": [
        "####Chart 5: Store Type and Assortment"
      ],
      "metadata": {
        "id": "H6WMHjDEjSET"
      }
    },
    {
      "cell_type": "code",
      "source": [
        "# Chart - 6 visualization code\n",
        "\n",
        "print(dataset['Assortment'].value_counts())\n",
        "plt.subplot(2, 2, 1)\n",
        "dataset['Assortment'].value_counts().sort_index().plot(kind='line',color='red')\n",
        "plt.title('Assortment')\n",
        "plt.xticks(rotation=0)\n",
        "plt.subplots_adjust(right=1.5)\n",
        "\n",
        "plt.subplot(2, 2, 2)\n",
        "dataset['StoreType'].value_counts().sort_index().plot(kind='line', color = 'yellow')\n",
        "plt.xticks(rotation=0)\n",
        "plt.title('Store Type')\n",
        "plt.show()\n",
        "print(dataset['StoreType'].value_counts())"
      ],
      "metadata": {
        "id": "fbLaQxyIF92e",
        "colab": {
          "base_uri": "https://localhost:8080/"
        },
        "outputId": "63b56a96-76a7-4629-86f1-d131be1bcbc9"
      },
      "execution_count": null,
      "outputs": [
        {
          "output_type": "stream",
          "name": "stdout",
          "text": [
            "a    537445\n",
            "c    471470\n",
            "b      8294\n",
            "Name: Assortment, dtype: int64\n"
          ]
        },
        {
          "output_type": "display_data",
          "data": {
            "text/plain": [
              "<Figure size 640x480 with 2 Axes>"
            ],
            "image/png": "[encoded data removed]"
          },
          "metadata": {}
        },
        {
          "output_type": "stream",
          "name": "stdout",
          "text": [
            "a    551627\n",
            "d    312912\n",
            "c    136840\n",
            "b     15830\n",
            "Name: StoreType, dtype: int64\n"
          ]
        }
      ]
    },
    {
      "cell_type": "markdown",
      "source": [
        "1. Why did you pick the specific chart?"
      ],
      "metadata": {
        "id": "oSXIvuEdF92e"
      }
    },
    {
      "cell_type": "markdown",
      "source": [
        "Line chart expresses the trends, patterns in the best way posssible. That is why we picked the chart to see in the number of stores of a single type and assortment preferred."
      ],
      "metadata": {
        "id": "-76nUQ_NF92f"
      }
    },
    {
      "cell_type": "markdown",
      "source": [
        " 2. What is/are the insight(s) found from the chart?"
      ],
      "metadata": {
        "id": "-9Z1AMbvF92f"
      }
    },
    {
      "cell_type": "markdown",
      "source": [
        "We can see that most of the stores have assortment category either a or c. Most of the stores do not prefer assortment category b.\n",
        "And at the same time we can see that most of the stores are of a type in comparison to the other three types."
      ],
      "metadata": {
        "id": "2G_OR_DXF92f"
      }
    },
    {
      "cell_type": "markdown",
      "source": [
        " 3. Will the gained insights help creating a positive business impact? \n",
        "Are there any insights that lead to negative growth? Justify with specific reason."
      ],
      "metadata": {
        "id": "AzN6xvbZF92f"
      }
    },
    {
      "cell_type": "markdown",
      "source": [
        "To get some more profit in business, Rossman can discontinue assortment category b and b store type. The a,c and d type franchises are bought by more people. So Rossman can improve those store types for better sales. "
      ],
      "metadata": {
        "id": "kLvYk6mZF92f"
      }
    },
    {
      "cell_type": "markdown",
      "source": [
        "####Chart 6: Sales on Days(Bivariate)"
      ],
      "metadata": {
        "id": "7EwjdIauoDls"
      }
    },
    {
      "cell_type": "code",
      "source": [
        "# Chart - 7 visualization code\n",
        "\n",
        "#Using groupby, getting the sales vs days of week data.\n",
        "\n",
        "#Plotting the data.\n",
        "\n",
        "dataset.groupby(['DayOfWeek'])['Sales'].mean().sort_values().plot(kind=\"bar\", title = \"Average sales VS Days Of Week\", rot =0, color='green',figsize=(6, 3),ylabel = \"Average_Sales\")\n",
        "plt.show()"
      ],
      "metadata": {
        "colab": {
          "base_uri": "https://localhost:8080/"
        },
        "id": "lNrzSSAKoGoi",
        "outputId": "81e74a3e-9282-41c0-dac4-cc2ec2df26c9"
      },
      "execution_count": null,
      "outputs": [
        {
          "output_type": "display_data",
          "data": {
            "text/plain": [
              "<Figure size 600x300 with 1 Axes>"
            ],
            "image/png": "[encoded data removed]"
          },
          "metadata": {}
        }
      ]
    },
    {
      "cell_type": "markdown",
      "source": [
        "1. Why did you pick the specific chart?"
      ],
      "metadata": {
        "id": "FmYNOo_foGoj"
      }
    },
    {
      "cell_type": "markdown",
      "source": [
        "We have picked this chart because this is clearly showing the difference and somewhere the trends and mentality of the customers."
      ],
      "metadata": {
        "id": "GCuAU5pCoGoj"
      }
    },
    {
      "cell_type": "markdown",
      "source": [
        " 2. What is/are the insight(s) found from the chart?"
      ],
      "metadata": {
        "id": "o_Jdk3saoGoj"
      }
    },
    {
      "cell_type": "markdown",
      "source": [
        "Sunday and Monday seems to have maximum sales throughout the week. Sunday is quite obvious as it is holiday.\n",
        "Since Mondays also have good sales, this means most of the customers have their day offs on Monday. \n",
        "There are low sales during the most of the weekdays, because people would be busy in their work life."
      ],
      "metadata": {
        "id": "8ICeIjEHoGok"
      }
    },
    {
      "cell_type": "markdown",
      "source": [
        " 3. Will the gained insights help creating a positive business impact? \n",
        "Are there any insights that lead to negative growth? Justify with specific reason."
      ],
      "metadata": {
        "id": "x3vrQRI4oGok"
      }
    },
    {
      "cell_type": "markdown",
      "source": [
        "To create a positive business growth, they should promote Sunday and Monday sales through some offers and promotions. The day on which the sales are minimum, they should do repairs on those days only so that sales won't be largely affected."
      ],
      "metadata": {
        "id": "-N0XN2mvoGok"
      }
    },
    {
      "cell_type": "markdown",
      "source": [
        "####Chart 7: Competition Distance affects Sales"
      ],
      "metadata": {
        "id": "pppBAwqGtJ7O"
      }
    },
    {
      "cell_type": "code",
      "source": [
        "# Chart - 7 visualization code\n",
        "\n",
        "dataset.plot(kind=\"scatter\", x=\"CompetitionDistance\",y=\"Sales\",title=\"CompetitionDistance VS Sales\",figsize=(6,5), color = 'thistle')\n",
        "z = np.polyfit(dataset['CompetitionDistance'], dataset['Sales'], 1)\n",
        "y_hat = np.poly1d(z)(dataset['CompetitionDistance'])\n",
        "plt.plot(dataset['CompetitionDistance'], y_hat, \"r--\", lw=1)\n",
        "plt.show()"
      ],
      "metadata": {
        "colab": {
          "base_uri": "https://localhost:8080/"
        },
        "id": "XnTCKCuJtJ7O",
        "outputId": "b34bc07c-3102-42f2-889a-746be7368cd8"
      },
      "execution_count": null,
      "outputs": [
        {
          "output_type": "display_data",
          "data": {
            "text/plain": [
              "<Figure size 600x500 with 1 Axes>"
            ],
            "image/png": "[encoded data removed]"
          },
          "metadata": {}
        }
      ]
    },
    {
      "cell_type": "markdown",
      "source": [
        "1. Why did you pick the specific chart?"
      ],
      "metadata": {
        "id": "lV1Am8CVtJ7P"
      }
    },
    {
      "cell_type": "markdown",
      "source": [
        "Scatter plots are best when we need to check for linear relationship. That is why we used the scatter plot here and plotted an approximate fit line using polyfit for better understanding."
      ],
      "metadata": {
        "id": "7yQb1bBttJ7P"
      }
    },
    {
      "cell_type": "markdown",
      "source": [
        " 2. What is/are the insight(s) found from the chart?"
      ],
      "metadata": {
        "id": "6GqAZM68tJ7P"
      }
    },
    {
      "cell_type": "markdown",
      "source": [
        "We can see that competition distance does not have very much effect on the sales. This could be due to good quality products of Rossman stores which keeps the customers loyal to their shop."
      ],
      "metadata": {
        "id": "KNMFZVM6tJ7P"
      }
    },
    {
      "cell_type": "markdown",
      "source": [
        " 3. Will the gained insights help creating a positive business impact? \n",
        "Are there any insights that lead to negative growth? Justify with specific reason."
      ],
      "metadata": {
        "id": "EuUs2cFJtJ7Q"
      }
    },
    {
      "cell_type": "markdown",
      "source": [
        "To create a positive growth Rossman can start a loyalty program in which frequent costomers will get better offers/discounts. This can decrease the affect of competition distance on the stores."
      ],
      "metadata": {
        "id": "adIvPMDStJ7Q"
      }
    },
    {
      "cell_type": "markdown",
      "source": [
        "####Chart 8: Customer buys or not?"
      ],
      "metadata": {
        "id": "icoM2AoftQKR"
      }
    },
    {
      "cell_type": "code",
      "execution_count": null,
      "metadata": {
        "id": "B0Q4rRx3FTwR",
        "colab": {
          "base_uri": "https://localhost:8080/"
        },
        "outputId": "1a224503-814e-45ab-a8b8-62782078d97d"
      },
      "outputs": [
        {
          "output_type": "display_data",
          "data": {
            "text/plain": [
              "<Figure size 600x300 with 1 Axes>"
            ],
            "image/png": "[encoded data removed]"
          },
          "metadata": {}
        }
      ],
      "source": [
        "# Chart - 8 visualization code\n",
        "\n",
        "dataset.plot(kind=\"scatter\", x=\"Customers\",y=\"Sales\",title=\"Customers VS Sales\",figsize=(6,3), color= 'lightseagreen')\n",
        "z = np.polyfit(dataset['Customers'], dataset['Sales'], 1)\n",
        "y_hat = np.poly1d(z)(dataset['Customers'])\n",
        "plt.plot(dataset['Customers'], y_hat, \"r--\", lw=1)\n",
        "plt.show()"
      ]
    },
    {
      "cell_type": "markdown",
      "source": [
        "1. Why did you pick the specific chart?"
      ],
      "metadata": {
        "id": "jwPyBTzotQKT"
      }
    },
    {
      "cell_type": "markdown",
      "source": [
        "Scatter plot is very useful for showing linear relationships.\n",
        "From this chart we'll see whether there is a linear relationship between Customers and Sales.\n",
        "There should be a linear relationship beacuse if there is not a linear relationship that could imply that customers are visiting the shop but not buying. This is harmful for the buisness."
      ],
      "metadata": {
        "id": "3EbuTbOqtQKT"
      }
    },
    {
      "cell_type": "markdown",
      "source": [
        " 2. What is/are the insight(s) found from the chart?"
      ],
      "metadata": {
        "id": "6ZM-ZowJtQKT"
      }
    },
    {
      "cell_type": "markdown",
      "source": [
        "The relationship is linear implying the almost all the customers who are visiting making purchases.But still there are some outliers."
      ],
      "metadata": {
        "id": "WNg1C0C4tQKT"
      }
    },
    {
      "cell_type": "markdown",
      "source": [
        " 3. Will the gained insights help creating a positive business impact? \n",
        "Are there any insights that lead to negative growth? Justify with specific reason."
      ],
      "metadata": {
        "id": "ZXp1pcz-tQKU"
      }
    },
    {
      "cell_type": "markdown",
      "source": [
        "The people who are visiting and not making any purchases can be due to unavailability of product they desired. So to remove the outliers the product availability should be managed."
      ],
      "metadata": {
        "id": "Qlb5ctx4tQKU"
      }
    },
    {
      "cell_type": "markdown",
      "source": [
        "####Chart 9: Sales VS Months-Year"
      ],
      "metadata": {
        "id": "mLeB_ORwtQab"
      }
    },
    {
      "cell_type": "code",
      "execution_count": null,
      "metadata": {
        "id": "u4GDtY2R7woh",
        "colab": {
          "base_uri": "https://localhost:8080/"
        },
        "outputId": "b9d93079-2d0f-4f99-9748-a1d7f923f1b7"
      },
      "outputs": [
        {
          "output_type": "display_data",
          "data": {
            "text/plain": [
              "<Figure size 500x800 with 1 Axes>"
            ],
            "image/png": "[encoded data removed]"
          },
          "metadata": {}
        }
      ],
      "source": [
        "# Chart - 9 visualization code\n",
        "\n",
        "df3 = dataset.groupby(['Year','Month'])['Sales'].mean().sort_index()\n",
        "df4 = pd.DataFrame()\n",
        "df4['2013']=df3[2013].to_list()\n",
        "df4['2014']=df3[2014].to_list()\n",
        "df4['2015'] = 0\n",
        "for i in range(0,7):\n",
        "  df4['2015'][i]=df3[2015][i+1]\n",
        "\n",
        "df4.index = ['January', 'February', 'March', 'April', 'May', 'June', 'July', 'August', 'September', 'October', 'November','December']\n",
        "\n",
        "df4.plot.bar(figsize=(5, 8),xlabel=\"Months-Years\",ylabel=\"Average_Sales\")\n",
        "plt.show()\n"
      ]
    },
    {
      "cell_type": "markdown",
      "source": [
        "1. Why did you pick the specific chart?"
      ],
      "metadata": {
        "id": "ORzLs4HntQac"
      }
    },
    {
      "cell_type": "markdown",
      "source": [
        "We have used grouped bar chart to show simultaneously the comparison between years and months altogether. "
      ],
      "metadata": {
        "id": "AQCUdfU1tQac"
      }
    },
    {
      "cell_type": "markdown",
      "source": [
        " 2. What is/are the insight(s) found from the chart?"
      ],
      "metadata": {
        "id": "tvNorS8ftQad"
      }
    },
    {
      "cell_type": "markdown",
      "source": [
        "Here we can see that the average sales are in a fixed zone. No significant boom in sales could be seen. Refurbishment might change the trend.\n",
        "We can see that there is slow growth in sales. June-July and November-December periods have better sale in all the three years. And due to refurbishment in later months of 2015, there could not been any sales.\n",
        "We can see from the chart above that from 2013 to 2014 sales has declined a bit.\n",
        "Customers must be getting closed shops due to refurbishment and this accounts for decreasing trend in yearly sales."
      ],
      "metadata": {
        "id": "OI-4jI3ntQad"
      }
    },
    {
      "cell_type": "markdown",
      "source": [
        " 3. Will the gained insights help creating a positive business impact? \n",
        "Are there any insights that lead to negative growth? Justify with specific reason."
      ],
      "metadata": {
        "id": "6B7-NYwptQad"
      }
    },
    {
      "cell_type": "markdown",
      "source": [
        "To get more sales, refurbishment should be done as soon as possible and more promotions should be there for the months which have low sales. If this is not done then in some months like May, August and October there will always be low sales which will be bad for business.  "
      ],
      "metadata": {
        "id": "KMfhM1MetQad"
      }
    },
    {
      "cell_type": "markdown",
      "source": [
        "####Chart 10: Sales in different types of stores"
      ],
      "metadata": {
        "id": "CYIxmYsQtQmi"
      }
    },
    {
      "cell_type": "code",
      "execution_count": null,
      "metadata": {
        "id": "Z25doT6czglx",
        "colab": {
          "base_uri": "https://localhost:8080/"
        },
        "outputId": "72512e5e-a734-4e5d-ef5c-5d873f94a367"
      },
      "outputs": [
        {
          "output_type": "execute_result",
          "data": {
            "text/plain": [
              "Text(0, 0.5, 'Sales')"
            ]
          },
          "metadata": {},
          "execution_count": 34
        },
        {
          "output_type": "display_data",
          "data": {
            "text/plain": [
              "<Figure size 640x480 with 1 Axes>"
            ],
            "image/png": "[encoded data removed]"
          },
          "metadata": {}
        }
      ],
      "source": [
        "# Chart - 10 visualization code\n",
        "\n",
        "ax = sns.barplot(x=\"StoreType\", y=\"Sales\", data=dataset,estimator = np.size)\n",
        "ax.set_title('Sales VS Store-type')\n",
        "ax.set_xlabel(\"Store-type\") \n",
        "ax.set_ylabel('Sales')\n"
      ]
    },
    {
      "cell_type": "markdown",
      "source": [
        "1. Why did you pick the specific chart?"
      ],
      "metadata": {
        "id": "yl8cdNIctQmj"
      }
    },
    {
      "cell_type": "markdown",
      "source": [
        "This graph will help us to recognize which type of stores as maximum sales, so that that type stores can be constructed more or the quantity of the items in those store can be increased."
      ],
      "metadata": {
        "id": "WUab4O_itQmj"
      }
    },
    {
      "cell_type": "markdown",
      "source": [
        " 2. What is/are the insight(s) found from the chart?"
      ],
      "metadata": {
        "id": "lPeW9bjVtQmk"
      }
    },
    {
      "cell_type": "markdown",
      "source": [
        "Store type a has the maximum sales. It is almost equal to the other type sales combined.\n",
        "Rossman should focus more on the product and store management of store type b,c,d while maintaing type a."
      ],
      "metadata": {
        "id": "a-hv_UJotQmk"
      }
    },
    {
      "cell_type": "markdown",
      "source": [
        " 3. Will the gained insights help creating a positive business impact? \n",
        "Are there any insights that lead to negative growth? Justify with specific reason."
      ],
      "metadata": {
        "id": "f-jRqOE8tQmk"
      }
    },
    {
      "cell_type": "markdown",
      "source": [
        "To make a positive impact, it is necessary to either drop store type b or highly promote it. SO that store type b can have better sales. And c needs promotions too."
      ],
      "metadata": {
        "id": "DEEuR-80tQml"
      }
    },
    {
      "cell_type": "markdown",
      "source": [
        "#### Chart 11: Sales on State Holidays"
      ],
      "metadata": {
        "id": "ZtAqekPc3jLL"
      }
    },
    {
      "cell_type": "code",
      "source": [
        "# Chart - 1 visualization code\n"
      ],
      "metadata": {
        "id": "ZVhWt6Px3jLM"
      },
      "execution_count": null,
      "outputs": []
    },
    {
      "cell_type": "code",
      "execution_count": null,
      "metadata": {
        "id": "Fj1jITFqXy0k",
        "colab": {
          "base_uri": "https://localhost:8080/"
        },
        "outputId": "c93a0ff5-c2fb-4595-e90c-8552be2a9604"
      },
      "outputs": [
        {
          "output_type": "display_data",
          "data": {
            "text/plain": [
              "<Figure size 640x480 with 1 Axes>"
            ],
            "image/png": "[encoded data removed]"
          },
          "metadata": {}
        }
      ],
      "source": [
        "dataset['StateHoliday']=dataset['StateHoliday'].replace(0,'d')\n",
        "dataset['StateHoliday']=dataset['StateHoliday'].replace('0','d')\n",
        "\n",
        "#Sales VS State Holiday\n",
        "df5 = dataset.groupby(['StateHoliday'])['Sales'].mean().sort_values(ascending=False)\n",
        "\n",
        "lab = ['a = public holiday', 'b = Easter holiday', 'c = Christmas', 'd = None']\n",
        "plt.pie(df5, labels = lab, autopct='%.0f%%', explode= [0,0,0,.2],shadow=True)\n",
        "plt.title(\"Sales on Different state holidays\")\n",
        "plt.show()\n",
        "\n"
      ]
    },
    {
      "cell_type": "markdown",
      "source": [
        "1. Why did you pick the specific chart?"
      ],
      "metadata": {
        "id": "edPYwYS23jLM"
      }
    },
    {
      "cell_type": "markdown",
      "source": [
        "We picked this chart so that we can show how much holidays contributes in sales of the stores. This clearly shows the difference between all the categories."
      ],
      "metadata": {
        "id": "RC_JJyOK3jLN"
      }
    },
    {
      "cell_type": "markdown",
      "source": [
        " 2. What is/are the insight(s) found from the chart?"
      ],
      "metadata": {
        "id": "bq8MwCM73jLN"
      }
    },
    {
      "cell_type": "markdown",
      "metadata": {
        "id": "UIGsy7FwLkY3"
      },
      "source": [
        "Maximum of the holiday sales are on type a holiday. \n",
        "The consumer base of Rossman stores consists of salaried based people who get their shopping done on public holidays."
      ]
    },
    {
      "cell_type": "markdown",
      "source": [
        " 3. Will the gained insights help creating a positive business impact? \n",
        "Are there any insights that lead to negative growth? Justify with specific reason."
      ],
      "metadata": {
        "id": "P0bwbGr83jLN"
      }
    },
    {
      "cell_type": "markdown",
      "source": [
        " To get a positive growth maxumim of the shops must be open on public holidays for better sales. And the sales can decline if shops kept closed on public holidays. So Rossman should cleverly decide when to keep shops closed or open."
      ],
      "metadata": {
        "id": "kdqtGdib4B5O"
      }
    },
    {
      "cell_type": "markdown",
      "source": [
        "#### Chart 12 - Collinearity Heat Map"
      ],
      "metadata": {
        "id": "_W6DJhjZ4IOX"
      }
    },
    {
      "cell_type": "code",
      "source": [
        "# Chart - 12 visualization code\n",
        "\n",
        " ## Correlation\n",
        "corr = dataset.corr()\n",
        "plt.figure(figsize=(10,7))\n",
        "sns.heatmap(abs(corr), annot=True, cmap='coolwarm')"
      ],
      "metadata": {
        "colab": {
          "base_uri": "https://localhost:8080/",
          "height": 754
        },
        "id": "enRbUIBx4IOY",
        "outputId": "98ea8a7e-1e92-4d3d-f853-e6c434e071f1"
      },
      "execution_count": null,
      "outputs": [
        {
          "output_type": "execute_result",
          "data": {
            "text/plain": [
              "<Axes: >"
            ]
          },
          "metadata": {},
          "execution_count": 42
        },
        {
          "output_type": "display_data",
          "data": {
            "text/plain": [
              "<Figure size 1000x700 with 2 Axes>"
            ],
            "image/png": "[encoded data removed]"
          },
          "metadata": {}
        }
      ]
    },
    {
      "cell_type": "markdown",
      "source": [
        "1. Why did you pick the specific chart?"
      ],
      "metadata": {
        "id": "7WQvgyX04IOY"
      }
    },
    {
      "cell_type": "markdown",
      "source": [
        "A correlation map is kind of a matrix which shows the dependency of each variable on every other variables. This table has correlation coefficients which shows the correlation between two variables.\n",
        "The value of correlation lies between -1 and 1. Where 1 shows the maximum correlaion possible and -1 the least. This map is used to summarize data and with the help of it we can select/deselect features according to need. \n"
      ],
      "metadata": {
        "id": "aKOijltL4IOY"
      }
    },
    {
      "cell_type": "markdown",
      "source": [
        " 2. What is/are the insight(s) found from the chart?"
      ],
      "metadata": {
        "id": "xUz0vcIG4IOZ"
      }
    },
    {
      "cell_type": "markdown",
      "source": [
        "From the above correlation heatmap we can deduce that:-\n",
        "1. Customers and sales have a high correlation coefficient. This is obvious as customers brings sales.\n",
        "2. Also the Sales and Open has high correlation and this can be accounted as the sales will only happend when stores are open. \n",
        "3. The secoond point also explains why customers and open has a high value.\n",
        "4. Day of Week has significant affect on Sales because people might prefer buying meds on a day off only."
      ],
      "metadata": {
        "id": "MN3yjjsLP3qd"
      }
    },
    {
      "cell_type": "markdown",
      "source": [
        "#### Chart 13- Pair Plot"
      ],
      "metadata": {
        "id": "OS1dBQrg4IXo"
      }
    },
    {
      "cell_type": "code",
      "source": [
        "#Chart 13 - visualization code\n",
        "#sns.pairplot(dataset, hue=\"Sales\")"
      ],
      "metadata": {
        "id": "vKXmJ4A34IXp"
      },
      "execution_count": null,
      "outputs": []
    },
    {
      "cell_type": "markdown",
      "source": [
        "1. Why did you pick the specific chart?"
      ],
      "metadata": {
        "id": "aZoMuqAm4IXp"
      }
    },
    {
      "cell_type": "markdown",
      "source": [
        "A pair plot expresses the important features to explain the relationship between the two variables. It helps to form very simple classififcation models by making simple graphs and showing linear separation in data. Therefore, we used a pair plot to check out the patterns, relations and variations between the features of our dataset.\n",
        " It is somewhat same as correlation but it shows pictorially whereas correlation map shows the difference numerically."
      ],
      "metadata": {
        "id": "Pd3r3FvY4IXp"
      }
    },
    {
      "cell_type": "markdown",
      "metadata": {
        "id": "yLjJCtPM0KBk"
      },
      "source": [
        "## ***5. Feature Engineering & Data Pre-processing***"
      ]
    },
    {
      "cell_type": "code",
      "execution_count": null,
      "metadata": {
        "id": "Y1oWdCo7hBmj"
      },
      "outputs": [],
      "source": [
        "dataset['PromoInterval'].fillna(0, inplace=True)"
      ]
    },
    {
      "cell_type": "code",
      "execution_count": null,
      "metadata": {
        "id": "Olzc_S9ckxNr"
      },
      "outputs": [],
      "source": [
        "#This data also include the days when the stores were closed. Since those days do not contribute to the sales, so we can remove those rows when stores were closed.\n",
        "\n",
        "dataset = dataset[dataset['Open']==1]\n",
        "\n",
        "dataset.reset_index(inplace=True)\n",
        "\n",
        "dataset.drop(['index','Open'],axis=1, inplace=True)"
      ]
    },
    {
      "cell_type": "markdown",
      "metadata": {
        "id": "gPJu6FWZRx4k"
      },
      "source": [
        "**New Column: MSP**"
      ]
    },
    {
      "cell_type": "code",
      "execution_count": null,
      "metadata": {
        "id": "4r7uHEkR57Zx"
      },
      "outputs": [],
      "source": [
        "#Lets name that column, money spent by a person(MSP)\n",
        "#We can calculate MSP by dividing sales by customers.\n",
        "dataset['MSP'] = dataset['Sales']/dataset['Customers'] \n",
        "#For 0 Customers 0 Sales day, we got Nan in the MSP column, replacing those values with 0\n",
        "dataset['MSP'].replace(np.nan,0, inplace=True)"
      ]
    },
    {
      "cell_type": "code",
      "execution_count": null,
      "metadata": {
        "id": "CE6b45rr1pAB"
      },
      "outputs": [],
      "source": [
        "dataset = dataset.drop(['Quarter','Promo2',],axis=1)"
      ]
    },
    {
      "cell_type": "code",
      "execution_count": null,
      "metadata": {
        "id": "weNvNrNW96iK"
      },
      "outputs": [],
      "source": [
        "#Multicollinearity\n",
        "from statsmodels.stats.outliers_influence import variance_inflation_factor\n",
        "def calc_vif(X):\n",
        "\n",
        "    # Calculating VIF\n",
        "    vif = pd.DataFrame()\n",
        "    vif[\"variables\"] = X.columns\n",
        "    vif[\"VIF\"] = [variance_inflation_factor(X.values, i) for i in range(X.shape[1])]\n",
        "\n",
        "    return(vif)"
      ]
    },
    {
      "cell_type": "code",
      "execution_count": null,
      "metadata": {
        "id": "LA_nIvkU9-Ma",
        "colab": {
          "base_uri": "https://localhost:8080/",
          "height": 394
        },
        "outputId": "d50e3509-e35d-491e-a980-8df9015de493"
      },
      "outputs": [
        {
          "output_type": "execute_result",
          "data": {
            "text/plain": [
              "              variables        VIF\n",
              "0                 Store   4.025528\n",
              "1             DayOfWeek   5.770426\n",
              "2             Customers   5.859863\n",
              "3                 Promo   2.305107\n",
              "4         SchoolHoliday   1.282403\n",
              "5   CompetitionDistance   1.631860\n",
              "6       Competition_Age   6.084831\n",
              "7            Promo2_Age   2.183189\n",
              "8                 Month   4.171672\n",
              "9                  Year  52.778581\n",
              "10                  MSP  27.332155"
            ],
            "text/html": [
              "\n",
              "  <div id=\"df-6f7af049-5c7b-4e48-be21-c92b4248b77c\">\n",
              "    <div class=\"colab-df-container\">\n",
              "      <div>\n",
              "<style scoped>\n",
              "    .dataframe tbody tr th:only-of-type {\n",
              "        vertical-align: middle;\n",
              "    }\n",
              "\n",
              "    .dataframe tbody tr th {\n",
              "        vertical-align: top;\n",
              "    }\n",
              "\n",
              "    .dataframe thead th {\n",
              "        text-align: right;\n",
              "    }\n",
              "</style>\n",
              "<table border=\"1\" class=\"dataframe\">\n",
              "  <thead>\n",
              "    <tr style=\"text-align: right;\">\n",
              "      <th></th>\n",
              "      <th>variables</th>\n",
              "      <th>VIF</th>\n",
              "    </tr>\n",
              "  </thead>\n",
              "  <tbody>\n",
              "    <tr>\n",
              "      <th>0</th>\n",
              "      <td>Store</td>\n",
              "      <td>4.025528</td>\n",
              "    </tr>\n",
              "    <tr>\n",
              "      <th>1</th>\n",
              "      <td>DayOfWeek</td>\n",
              "      <td>5.770426</td>\n",
              "    </tr>\n",
              "    <tr>\n",
              "      <th>2</th>\n",
              "      <td>Customers</td>\n",
              "      <td>5.859863</td>\n",
              "    </tr>\n",
              "    <tr>\n",
              "      <th>3</th>\n",
              "      <td>Promo</td>\n",
              "      <td>2.305107</td>\n",
              "    </tr>\n",
              "    <tr>\n",
              "      <th>4</th>\n",
              "      <td>SchoolHoliday</td>\n",
              "      <td>1.282403</td>\n",
              "    </tr>\n",
              "    <tr>\n",
              "      <th>5</th>\n",
              "      <td>CompetitionDistance</td>\n",
              "      <td>1.631860</td>\n",
              "    </tr>\n",
              "    <tr>\n",
              "      <th>6</th>\n",
              "      <td>Competition_Age</td>\n",
              "      <td>6.084831</td>\n",
              "    </tr>\n",
              "    <tr>\n",
              "      <th>7</th>\n",
              "      <td>Promo2_Age</td>\n",
              "      <td>2.183189</td>\n",
              "    </tr>\n",
              "    <tr>\n",
              "      <th>8</th>\n",
              "      <td>Month</td>\n",
              "      <td>4.171672</td>\n",
              "    </tr>\n",
              "    <tr>\n",
              "      <th>9</th>\n",
              "      <td>Year</td>\n",
              "      <td>52.778581</td>\n",
              "    </tr>\n",
              "    <tr>\n",
              "      <th>10</th>\n",
              "      <td>MSP</td>\n",
              "      <td>27.332155</td>\n",
              "    </tr>\n",
              "  </tbody>\n",
              "</table>\n",
              "</div>\n",
              "      <button class=\"colab-df-convert\" onclick=\"convertToInteractive('df-6f7af049-5c7b-4e48-be21-c92b4248b77c')\"\n",
              "              title=\"Convert this dataframe to an interactive table.\"\n",
              "              style=\"display:none;\">\n",
              "        \n",
              "  <svg xmlns=\"http://www.w3.org/2000/svg\" height=\"24px\"viewBox=\"0 0 24 24\"\n",
              "       width=\"24px\">\n",
              "    <path d=\"M0 0h24v24H0V0z\" fill=\"none\"/>\n",
              "    <path d=\"M18.56 5.44l.94 2.06.94-2.06 2.06-.94-2.06-.94-.94-2.06-.94 2.06-2.06.94zm-11 1L8.5 8.5l.94-2.06 2.06-.94-2.06-.94L8.5 2.5l-.94 2.06-2.06.94zm10 10l.94 2.06.94-2.06 2.06-.94-2.06-.94-.94-2.06-.94 2.06-2.06.94z\"/><path d=\"M17.41 7.96l-1.37-1.37c-.4-.4-.92-.59-1.43-.59-.52 0-1.04.2-1.43.59L10.3 9.45l-7.72 7.72c-.78.78-.78 2.05 0 2.83L4 21.41c.39.39.9.59 1.41.59.51 0 1.02-.2 1.41-.59l7.78-7.78 2.81-2.81c.8-.78.8-2.07 0-2.86zM5.41 20L4 18.59l7.72-7.72 1.47 1.35L5.41 20z\"/>\n",
              "  </svg>\n",
              "      </button>\n",
              "      \n",
              "  <style>\n",
              "    .colab-df-container {\n",
              "      display:flex;\n",
              "      flex-wrap:wrap;\n",
              "      gap: 12px;\n",
              "    }\n",
              "\n",
              "    .colab-df-convert {\n",
              "      background-color: #E8F0FE;\n",
              "      border: none;\n",
              "      border-radius: 50%;\n",
              "      cursor: pointer;\n",
              "      display: none;\n",
              "      fill: #1967D2;\n",
              "      height: 32px;\n",
              "      padding: 0 0 0 0;\n",
              "      width: 32px;\n",
              "    }\n",
              "\n",
              "    .colab-df-convert:hover {\n",
              "      background-color: #E2EBFA;\n",
              "      box-shadow: 0px 1px 2px rgba(60, 64, 67, 0.3), 0px 1px 3px 1px rgba(60, 64, 67, 0.15);\n",
              "      fill: #174EA6;\n",
              "    }\n",
              "\n",
              "    [theme=dark] .colab-df-convert {\n",
              "      background-color: #3B4455;\n",
              "      fill: #D2E3FC;\n",
              "    }\n",
              "\n",
              "    [theme=dark] .colab-df-convert:hover {\n",
              "      background-color: #434B5C;\n",
              "      box-shadow: 0px 1px 3px 1px rgba(0, 0, 0, 0.15);\n",
              "      filter: drop-shadow(0px 1px 2px rgba(0, 0, 0, 0.3));\n",
              "      fill: #FFFFFF;\n",
              "    }\n",
              "  </style>\n",
              "\n",
              "      <script>\n",
              "        const buttonEl =\n",
              "          document.querySelector('#df-6f7af049-5c7b-4e48-be21-c92b4248b77c button.colab-df-convert');\n",
              "        buttonEl.style.display =\n",
              "          google.colab.kernel.accessAllowed ? 'block' : 'none';\n",
              "\n",
              "        async function convertToInteractive(key) {\n",
              "          const element = document.querySelector('#df-6f7af049-5c7b-4e48-be21-c92b4248b77c');\n",
              "          const dataTable =\n",
              "            await google.colab.kernel.invokeFunction('convertToInteractive',\n",
              "                                                     [key], {});\n",
              "          if (!dataTable) return;\n",
              "\n",
              "          const docLinkHtml = 'Like what you see? Visit the ' +\n",
              "            '<a target=\"_blank\" href=https://colab.research.google.com/notebooks/data_table.ipynb>data table notebook</a>'\n",
              "            + ' to learn more about interactive tables.';\n",
              "          element.innerHTML = '';\n",
              "          dataTable['output_type'] = 'display_data';\n",
              "          await google.colab.output.renderOutput(dataTable, element);\n",
              "          const docLink = document.createElement('div');\n",
              "          docLink.innerHTML = docLinkHtml;\n",
              "          element.appendChild(docLink);\n",
              "        }\n",
              "      </script>\n",
              "    </div>\n",
              "  </div>\n",
              "  "
            ]
          },
          "metadata": {},
          "execution_count": 44
        }
      ],
      "source": [
        "calc_vif(dataset[[i for i in dataset.describe().columns if i not in ['Sales']]])"
      ]
    },
    {
      "cell_type": "markdown",
      "metadata": {
        "id": "8qbf_Btp9rHp"
      },
      "source": [
        "Outliers Treatment"
      ]
    },
    {
      "cell_type": "code",
      "execution_count": null,
      "metadata": {
        "id": "sDYmc3cu-40K",
        "colab": {
          "base_uri": "https://localhost:8080/",
          "height": 1000
        },
        "outputId": "56da64c8-ca6b-4cd1-c5e0-1297f42ea97b"
      },
      "outputs": [
        {
          "output_type": "execute_result",
          "data": {
            "text/plain": [
              "Sales                     Axes(0.125,0.53;0.352273x0.35)\n",
              "Customers              Axes(0.547727,0.53;0.352273x0.35)\n",
              "CompetitionDistance       Axes(0.125,0.11;0.352273x0.35)\n",
              "MSP                    Axes(0.547727,0.11;0.352273x0.35)\n",
              "dtype: object"
            ]
          },
          "metadata": {},
          "execution_count": 45
        },
        {
          "output_type": "display_data",
          "data": {
            "text/plain": [
              "<Figure size 1500x1500 with 4 Axes>"
            ],
            "image/png": "[encoded data removed]"
          },
          "metadata": {}
        }
      ],
      "source": [
        "dataset.plot(y=['Sales','Customers','CompetitionDistance','MSP'], kind=\"box\", subplots=True, layout=(2,2), figsize=(15,15))"
      ]
    },
    {
      "cell_type": "code",
      "execution_count": null,
      "metadata": {
        "id": "1H7MOBah-4v9"
      },
      "outputs": [],
      "source": [
        "def calculate_outlier(df,column): ## function for calculating outliers\n",
        "    Q3 = df[column].quantile(0.75)\n",
        "    Q1 = df[column].quantile(0.25)\n",
        "    IQR = Q3 - Q1\n",
        "    lower = Q1 - 1.5 * IQR\n",
        "    upper = Q3 + 1.5 * IQR\n",
        "    percent_outliers = round(((df[df[column] > upper].shape[0]) + (df[df[column] < lower].shape[0])) / df.shape[0] * 100, 2)\n",
        "    return lower, upper, percent_outliers"
      ]
    },
    {
      "cell_type": "code",
      "execution_count": null,
      "metadata": {
        "id": "N_pB64Hi-4x0"
      },
      "outputs": [],
      "source": [
        "#We can see that there are significant outliers in the columns above, so dealing with them one by one."
      ]
    },
    {
      "cell_type": "markdown",
      "metadata": {
        "id": "amcsKw5fxrnT"
      },
      "source": [
        "####Sales Outliers"
      ]
    },
    {
      "cell_type": "code",
      "execution_count": null,
      "metadata": {
        "id": "42cVfJJyxqwH",
        "colab": {
          "base_uri": "https://localhost:8080/"
        },
        "outputId": "20ad79b2-8e7b-449f-e1d2-4cceaad8efe5"
      },
      "outputs": [
        {
          "output_type": "stream",
          "name": "stdout",
          "text": [
            "lower:-  -392.5 \n",
            "upper:-  13611.5 \n",
            "outliers percent before treatment:-  3.64 \n"
          ]
        }
      ],
      "source": [
        "l_sales, h_sales, percent_sales = calculate_outlier(dataset, 'Sales')\n",
        "\n",
        "print(f\"lower:-  {l_sales} \")\n",
        "print(f\"upper:-  {h_sales} \")\n",
        "print(f\"outliers percent before treatment:-  {percent_sales} \")\n",
        "\n",
        "#2.62% => 20,000 approx values are in outliers, which is very significant.\n",
        "# We know that the sales is not less than 0 anywhere, so dealing with the upper outliers by replacing all the values greater than h_sales by h_sales.\n"
      ]
    },
    {
      "cell_type": "code",
      "execution_count": null,
      "metadata": {
        "id": "jAp2Ids35fHE"
      },
      "outputs": [],
      "source": [
        "#Treating Outliers\n",
        "dataset['Sales'].loc[dataset['Sales']>=h_sales] = h_sales"
      ]
    },
    {
      "cell_type": "markdown",
      "metadata": {
        "id": "5NP0jN5E1uw9"
      },
      "source": [
        "####Customers outliers"
      ]
    },
    {
      "cell_type": "code",
      "execution_count": null,
      "metadata": {
        "id": "YMLE67wn11SV",
        "colab": {
          "base_uri": "https://localhost:8080/"
        },
        "outputId": "d9d4b74e-f246-46eb-de51-7a3362563f04"
      },
      "outputs": [
        {
          "output_type": "stream",
          "name": "stdout",
          "text": [
            "lower:-  -42.0 \n",
            "upper:-  1454.0 \n",
            "outliers percent :-  4.84 \n"
          ]
        }
      ],
      "source": [
        "l_cust, h_cust, percent_cust = calculate_outlier(dataset, 'Customers')\n",
        "\n",
        "\n",
        "print(f\"lower:-  {l_cust} \")\n",
        "print(f\"upper:-  {h_cust} \")\n",
        "print(f\"outliers percent :-  {percent_cust} \")"
      ]
    },
    {
      "cell_type": "code",
      "execution_count": null,
      "metadata": {
        "id": "D0WHY7Os5s--"
      },
      "outputs": [],
      "source": [
        "#Treating Outliers\n",
        "dataset['Customers'].loc[dataset['Customers']>=h_cust] = h_cust"
      ]
    },
    {
      "cell_type": "markdown",
      "metadata": {
        "id": "92TazTIM32cM"
      },
      "source": [
        "####Competition Distance Outliers"
      ]
    },
    {
      "cell_type": "code",
      "execution_count": null,
      "metadata": {
        "id": "AMi3bhLc37Bw",
        "colab": {
          "base_uri": "https://localhost:8080/"
        },
        "outputId": "ae4cb37a-0b1f-4639-d45e-a0ac6c1e2622"
      },
      "outputs": [
        {
          "output_type": "stream",
          "name": "stdout",
          "text": [
            "lower:-  -8545.0 \n",
            "upper:-  16135.0 \n",
            "outliers percent :-  9.83 \n"
          ]
        }
      ],
      "source": [
        "l_cd, h_cd, percent_cd = calculate_outlier(dataset, 'CompetitionDistance')\n",
        "\n",
        "print(f\"lower:-  {l_cd} \")\n",
        "print(f\"upper:-  {h_cd} \")\n",
        "print(f\"outliers percent :-  {percent_cd} \")"
      ]
    },
    {
      "cell_type": "code",
      "execution_count": null,
      "metadata": {
        "id": "5FYfe4F-5o8J"
      },
      "outputs": [],
      "source": [
        "#Treating Outliers\n",
        "dataset['CompetitionDistance'].loc[dataset['CompetitionDistance']>=h_cd] = h_cd"
      ]
    },
    {
      "cell_type": "markdown",
      "metadata": {
        "id": "GtMGy1Vz6S-L"
      },
      "source": [
        "####MSP Outliers"
      ]
    },
    {
      "cell_type": "code",
      "execution_count": null,
      "metadata": {
        "colab": {
          "base_uri": "https://localhost:8080/"
        },
        "id": "FmT2jduB6Vzi",
        "outputId": "343fbb2e-faac-4fff-c684-787adfed2094"
      },
      "outputs": [
        {
          "output_type": "stream",
          "name": "stdout",
          "text": [
            "lower:-  3.388844543876737 \n",
            "upper:-  15.406102074238545 \n",
            "outliers percent :-  0.89 \n"
          ]
        }
      ],
      "source": [
        "l_msp, h_msp, percent_msp = calculate_outlier(dataset, 'MSP')\n",
        "\n",
        "print(f\"lower:-  {l_msp} \")\n",
        "print(f\"upper:-  {h_msp} \")\n",
        "print(f\"outliers percent :-  {percent_msp} \")"
      ]
    },
    {
      "cell_type": "code",
      "execution_count": null,
      "metadata": {
        "id": "b9Vjk6hm6kir"
      },
      "outputs": [],
      "source": [
        "#Treating Outliers\n",
        "dataset['MSP'].loc[dataset['MSP']>=h_cd] = h_cd"
      ]
    },
    {
      "cell_type": "markdown",
      "metadata": {
        "id": "QYH_Doax8u9f"
      },
      "source": [
        "####CATEGORICAL ENCODING"
      ]
    },
    {
      "cell_type": "code",
      "execution_count": null,
      "metadata": {
        "id": "PfeqxpLO9Si3"
      },
      "outputs": [],
      "source": [
        "#Making a copy of the dataset\n",
        "\n",
        "dataset_pr = dataset.copy()"
      ]
    },
    {
      "cell_type": "code",
      "execution_count": null,
      "metadata": {
        "id": "epOpsYkR1oyA"
      },
      "outputs": [],
      "source": [
        "#Separating the categorical columns for encoding\n",
        "categorical_columns = ['StateHoliday','StoreType','Assortment','PromoInterval']"
      ]
    },
    {
      "cell_type": "code",
      "execution_count": null,
      "metadata": {
        "id": "IgUAkIDzUXf3"
      },
      "outputs": [],
      "source": [
        "#Mapping the variables to numerical ones.\n",
        "\n",
        "dataset_pr['PromoInterval'] = dataset_pr['PromoInterval'].map({'Jan,Apr,Jul,Oct':1,'Feb,May,Aug,Nov':2,'Mar,Jun,Sept,Dec':3})\n",
        "dataset_pr['StoreType'] = dataset_pr['StoreType'].map({'a':1,'b':2,'c':3,'d':4})\n",
        "dataset_pr['Assortment'] = dataset_pr['Assortment'].map({'a':1,'b':2,'c':3})\n",
        "dataset_pr['StateHoliday'] = dataset_pr['StateHoliday'].map({'a':1,'b':2,'c':3,'d':4})\n"
      ]
    },
    {
      "cell_type": "code",
      "execution_count": null,
      "metadata": {
        "id": "iAxTjIbM_olo"
      },
      "outputs": [],
      "source": [
        "dataset_pr['PromoInterval'].fillna(0,inplace=True)"
      ]
    },
    {
      "cell_type": "code",
      "execution_count": null,
      "metadata": {
        "id": "gj9-Xl8i6Kut"
      },
      "outputs": [],
      "source": [
        "# One hot encoding\n",
        "dataset_pr = pd.get_dummies(dataset_pr, columns=['DayOfWeek','StateHoliday', 'StoreType', 'Assortment','PromoInterval'])"
      ]
    },
    {
      "cell_type": "markdown",
      "source": [
        "####Scaling"
      ],
      "metadata": {
        "id": "Keuyk65m524x"
      }
    },
    {
      "cell_type": "code",
      "execution_count": null,
      "metadata": {
        "id": "LrXpBf7K6qU5"
      },
      "outputs": [],
      "source": [
        "#Selecting features which will be used in training the data\n",
        "\n",
        "features = [ 'Customers', 'Promo', 'SchoolHoliday',\n",
        "       'CompetitionDistance', 'Competition_Age', 'Promo2_Age', 'Month', 'Year',\n",
        "       'MSP', 'DayOfWeek_1', 'DayOfWeek_2', 'DayOfWeek_3', 'DayOfWeek_4',\n",
        "       'DayOfWeek_5', 'DayOfWeek_6', 'DayOfWeek_7', 'StateHoliday_1',\n",
        "       'StateHoliday_2', 'StateHoliday_3', 'StateHoliday_4', 'StoreType_1',\n",
        "       'StoreType_2', 'StoreType_3', 'StoreType_4', 'Assortment_1',\n",
        "       'Assortment_2', 'Assortment_3', 'PromoInterval_0.0',\n",
        "       'PromoInterval_1.0', 'PromoInterval_2.0', 'PromoInterval_3.0']"
      ]
    },
    {
      "cell_type": "code",
      "execution_count": null,
      "metadata": {
        "id": "0CATBA18AElE"
      },
      "outputs": [],
      "source": [
        "Z= dataset_pr[features]"
      ]
    },
    {
      "cell_type": "code",
      "execution_count": null,
      "metadata": {
        "id": "Io6ysX_06Nbs"
      },
      "outputs": [],
      "source": [
        "#This step is to remove errors due to infinity when log applied.\n",
        "\n",
        "dataset_pr['Sales'] = dataset_pr['Sales']+0.5"
      ]
    },
    {
      "cell_type": "code",
      "execution_count": null,
      "metadata": {
        "id": "EbamvlOK6Num"
      },
      "outputs": [],
      "source": [
        "#Scaling the features\n",
        "\n",
        "scaler = preprocessing.StandardScaler()\n",
        "\n",
        "X = scaler.fit_transform(Z)"
      ]
    },
    {
      "cell_type": "code",
      "execution_count": null,
      "metadata": {
        "id": "M4ihs9nV6NhS"
      },
      "outputs": [],
      "source": [
        "#Dependent vairable assigning\n",
        "y = dataset_pr['Sales']"
      ]
    },
    {
      "cell_type": "markdown",
      "source": [
        "####Train-Test Splitting"
      ],
      "metadata": {
        "id": "YMrBRLOd55uQ"
      }
    },
    {
      "cell_type": "code",
      "execution_count": null,
      "metadata": {
        "id": "oRoSZc_0BUz-",
        "colab": {
          "base_uri": "https://localhost:8080/"
        },
        "outputId": "3e566a50-f99e-42c6-a6ad-e7e01f1ae493"
      },
      "outputs": [
        {
          "output_type": "stream",
          "name": "stdout",
          "text": [
            "(675513, 31)\n",
            "(168879, 31)\n"
          ]
        }
      ],
      "source": [
        "#Train test Split\n",
        "\n",
        "X_train, X_test, y_train, y_test = train_test_split( X,y , test_size = 0.2, random_state = 0) \n",
        "print(X_train.shape)\n",
        "print(X_test.shape)"
      ]
    },
    {
      "cell_type": "markdown",
      "metadata": {
        "id": "yS3BBngm70LY"
      },
      "source": [
        "##ML Model Implementation"
      ]
    },
    {
      "cell_type": "code",
      "execution_count": null,
      "metadata": {
        "id": "2ehrAdHfBGaM"
      },
      "outputs": [],
      "source": [
        "#Calculating errors\n",
        "def calc_errors(y_test, y_pred):\n",
        "  MSE = mean_squared_error(y_test, y_pred)\n",
        "  print(f\"MSE:-  {MSE}\" )\n",
        "  RMSE = np.sqrt(MSE)\n",
        "  print(f\"RMSE:-  {RMSE}\")\n",
        "  rsq_score = r2_score(y_test, y_pred)\n",
        "  print(f\"r2_score:-  {rsq_score}\")"
      ]
    },
    {
      "cell_type": "markdown",
      "source": [
        "### ML Model 1 - Linear Regression"
      ],
      "metadata": {
        "id": "OB4l2ZhMeS1U"
      }
    },
    {
      "cell_type": "code",
      "source": [
        "# ML Model - 1 Implementation\n",
        "\n",
        "# Linear Regression\n",
        "lin_reg = LinearRegression()\n",
        "\n",
        "#Fit model\n",
        "lin_reg.fit(X_train, y_train)\n",
        "\n",
        "#prediction\n",
        "y_pred_lr = lin_reg.predict(X_test)\n",
        "\n",
        "#actual\n",
        "actual = y_test\n",
        "\n",
        "train_score_lr = lin_reg.score(X_train, y_train)\n",
        "test_score_lr = lin_reg.score(X_test, y_test)\n",
        "\n"
      ],
      "metadata": {
        "id": "7ebyywQieS1U"
      },
      "execution_count": null,
      "outputs": []
    },
    {
      "cell_type": "markdown",
      "source": [
        "#### 1. Explain the ML Model used and it's performance using Evaluation metric Score Chart."
      ],
      "metadata": {
        "id": "ArJBuiUVfxKd"
      }
    },
    {
      "cell_type": "code",
      "source": [
        "# Visualizing evaluation Metric Score chart\n",
        "print(\"\\n Linear Regression Model............................................\\n\")\n",
        "\n",
        "print(f\"The train score for linear regression model is {train_score_lr}\")\n",
        "print(f\"The test score for linear regression model is {test_score_lr}\")\n",
        "\n",
        "print('Errors :- ')\n",
        "calc_errors(y_test, y_pred_lr)\n"
      ],
      "metadata": {
        "id": "rqD5ZohzfxKe",
        "colab": {
          "base_uri": "https://localhost:8080/"
        },
        "outputId": "f8145e72-3813-4cc1-d98f-7eb1ca482008"
      },
      "execution_count": null,
      "outputs": [
        {
          "output_type": "stream",
          "name": "stdout",
          "text": [
            "\n",
            " Linear Regression Model............................................\n",
            "\n",
            "The train score for linear regression model is 0.9548529734790339\n",
            "The test score for linear regression model is 0.955118186948691\n",
            "Errors :- \n",
            "MSE:-  330126.6506617026\n",
            "RMSE:-  574.5664893306106\n",
            "r2_score:-  0.955118186948691\n"
          ]
        }
      ]
    },
    {
      "cell_type": "markdown",
      "source": [
        "We have used Linear Regression as our first model.The train score we got is 0.95 and test score is 0.95 again, which are both in the acceptable range. \n",
        "Then we used three evaluation metrics RMSE, MSE and r-squared. The values of MSE is way too large that's why we took RMSE and for better results we used r squared because it shows how well the data fit in the model. And that results came out to be well i.e. 0.95."
      ],
      "metadata": {
        "id": "pUEZ2k4i8Dc3"
      }
    },
    {
      "cell_type": "markdown",
      "source": [
        "### ML Model 2 - Ridge Regression"
      ],
      "metadata": {
        "id": "dJ2tPlVmpsJ0"
      }
    },
    {
      "cell_type": "code",
      "execution_count": null,
      "metadata": {
        "id": "TfcUt6f2iST9",
        "colab": {
          "base_uri": "https://localhost:8080/"
        },
        "outputId": "3d323e35-2e8c-4ee6-c3b5-2163214706e9"
      },
      "outputs": [
        {
          "output_type": "stream",
          "name": "stdout",
          "text": [
            "\n",
            "Ridge Model............................................\n",
            "\n",
            "For alpha = 10\n",
            "The train score for ridge model is 0.9548529253492825\n",
            "The test score for ridge model is 0.9551183443988893\n",
            "\n",
            "Errors :- \n",
            "MSE:-  330125.4925421198\n",
            "RMSE:-  574.5654815093923\n",
            "r2_score:-  0.9551183443988893\n"
          ]
        }
      ],
      "source": [
        "#Ridge Regression Model\n",
        "\n",
        "ridgeReg = Ridge(alpha=10)\n",
        "\n",
        "ridgeReg.fit(X_train,y_train)\n",
        "\n",
        "#prediction\n",
        "y_pred_rid = ridgeReg.predict(X_test)\n",
        "\n",
        "#train and test score for ridge regression\n",
        "train_score_ridge = ridgeReg.score(X_train, y_train)\n",
        "test_score_ridge = ridgeReg.score(X_test, y_test)\n"
      ]
    },
    {
      "cell_type": "markdown",
      "source": [
        "#### 1. Explain the ML Model used and it's performance using Evaluation metric Score Chart."
      ],
      "metadata": {
        "id": "JWYfwnehpsJ1"
      }
    },
    {
      "cell_type": "code",
      "source": [
        "# Visualizing evaluation Metric Score chart\n",
        "\n",
        "print(\"\\nRidge Model............................................\\n\")\n",
        "print(f\"For alpha = {10}\")\n",
        "print(\"The train score for ridge model is {}\".format(train_score_ridge))\n",
        "print(\"The test score for ridge model is {}\".format(test_score_ridge))\n",
        "print()\n",
        "print('Errors :- ')\n",
        "calc_errors(y_test, y_pred_rid)\n"
      ],
      "metadata": {
        "id": "yEl-hgQWpsJ1"
      },
      "execution_count": null,
      "outputs": []
    },
    {
      "cell_type": "markdown",
      "source": [
        "#### 2. Cross- Validation & Hyperparameter Tuning"
      ],
      "metadata": {
        "id": "-jK_YjpMpsJ2"
      }
    },
    {
      "cell_type": "code",
      "source": [
        "# ML Model - 2 Implementation with hyperparameter optimization techniques (i.e., GridSearch CV, RandomSearch CV, Bayesian Optimization etc.)\n",
        "\n",
        "from sklearn.model_selection import GridSearchCV\n",
        "\n",
        "# list of alpha to tune\n",
        "\n",
        "params = {'alpha': [0.0001, 0.001, 0.01, 0.05, 0.1, 0.2, 0.3, 0.4, 0.5, 0.6, 0.7, 0.8, 0.9, 1.0, 2.0, 3.0, 4.0, 5.0, 6.0, 7.0, 8.0, 9.0, \n",
        "                    10.0, 20, 50, 100, 500, 1000 ]}\n",
        "\n",
        "#initialising Ridge regression\n",
        "ridge = Ridge()\n",
        "\n",
        "# Defining GridSearchCV\n",
        "grid_cv_model = GridSearchCV(estimator=ridge,\n",
        "                       param_grid=params,\n",
        "                       scoring = metrics.get_scorer(r2_score),\n",
        "                       cv=5,\n",
        "                       return_train_score=True,\n",
        "                       verbose=1)\n",
        "\n",
        "# fiting GridSearchCV() with X_train and y_train\n",
        "grid_cv_model.fit(X_train,y_train)\n",
        "# Predict on the model"
      ],
      "metadata": {
        "id": "Dn0EOfS6psJ2",
        "colab": {
          "base_uri": "https://localhost:8080/",
          "height": 135
        },
        "outputId": "89ea8dd2-ea26-42bc-cfb0-65882c863147"
      },
      "execution_count": null,
      "outputs": [
        {
          "output_type": "stream",
          "name": "stdout",
          "text": [
            "Fitting 5 folds for each of 28 candidates, totalling 140 fits\n"
          ]
        },
        {
          "output_type": "execute_result",
          "data": {
            "text/plain": [
              "GridSearchCV(cv=5, estimator=Ridge(),\n",
              "             param_grid={'alpha': [0.0001, 0.001, 0.01, 0.05, 0.1, 0.2, 0.3,\n",
              "                                   0.4, 0.5, 0.6, 0.7, 0.8, 0.9, 1.0, 2.0, 3.0,\n",
              "                                   4.0, 5.0, 6.0, 7.0, 8.0, 9.0, 10.0, 20, 50,\n",
              "                                   100, 500, 1000]},\n",
              "             return_train_score=True,\n",
              "             scoring=<function r2_score at 0x7fd4ff3d8310>, verbose=1)"
            ],
            "text/html": [
              "<style>#sk-container-id-2 {color: black;background-color: white;}#sk-container-id-2 pre{padding: 0;}#sk-container-id-2 div.sk-toggleable {background-color: white;}#sk-container-id-2 label.sk-toggleable__label {cursor: pointer;display: block;width: 100%;margin-bottom: 0;padding: 0.3em;box-sizing: border-box;text-align: center;}#sk-container-id-2 label.sk-toggleable__label-arrow:before {content: \"▸\";float: left;margin-right: 0.25em;color: #696969;}#sk-container-id-2 label.sk-toggleable__label-arrow:hover:before {color: black;}#sk-container-id-2 div.sk-estimator:hover label.sk-toggleable__label-arrow:before {color: black;}#sk-container-id-2 div.sk-toggleable__content {max-height: 0;max-width: 0;overflow: hidden;text-align: left;background-color: #f0f8ff;}#sk-container-id-2 div.sk-toggleable__content pre {margin: 0.2em;color: black;border-radius: 0.25em;background-color: #f0f8ff;}#sk-container-id-2 input.sk-toggleable__control:checked~div.sk-toggleable__content {max-height: 200px;max-width: 100%;overflow: auto;}#sk-container-id-2 input.sk-toggleable__control:checked~label.sk-toggleable__label-arrow:before {content: \"▾\";}#sk-container-id-2 div.sk-estimator input.sk-toggleable__control:checked~label.sk-toggleable__label {background-color: #d4ebff;}#sk-container-id-2 div.sk-label input.sk-toggleable__control:checked~label.sk-toggleable__label {background-color: #d4ebff;}#sk-container-id-2 input.sk-hidden--visually {border: 0;clip: rect(1px 1px 1px 1px);clip: rect(1px, 1px, 1px, 1px);height: 1px;margin: -1px;overflow: hidden;padding: 0;position: absolute;width: 1px;}#sk-container-id-2 div.sk-estimator {font-family: monospace;background-color: #f0f8ff;border: 1px dotted black;border-radius: 0.25em;box-sizing: border-box;margin-bottom: 0.5em;}#sk-container-id-2 div.sk-estimator:hover {background-color: #d4ebff;}#sk-container-id-2 div.sk-parallel-item::after {content: \"\";width: 100%;border-bottom: 1px solid gray;flex-grow: 1;}#sk-container-id-2 div.sk-label:hover label.sk-toggleable__label {background-color: #d4ebff;}#sk-container-id-2 div.sk-serial::before {content: \"\";position: absolute;border-left: 1px solid gray;box-sizing: border-box;top: 0;bottom: 0;left: 50%;z-index: 0;}#sk-container-id-2 div.sk-serial {display: flex;flex-direction: column;align-items: center;background-color: white;padding-right: 0.2em;padding-left: 0.2em;position: relative;}#sk-container-id-2 div.sk-item {position: relative;z-index: 1;}#sk-container-id-2 div.sk-parallel {display: flex;align-items: stretch;justify-content: center;background-color: white;position: relative;}#sk-container-id-2 div.sk-item::before, #sk-container-id-2 div.sk-parallel-item::before {content: \"\";position: absolute;border-left: 1px solid gray;box-sizing: border-box;top: 0;bottom: 0;left: 50%;z-index: -1;}#sk-container-id-2 div.sk-parallel-item {display: flex;flex-direction: column;z-index: 1;position: relative;background-color: white;}#sk-container-id-2 div.sk-parallel-item:first-child::after {align-self: flex-end;width: 50%;}#sk-container-id-2 div.sk-parallel-item:last-child::after {align-self: flex-start;width: 50%;}#sk-container-id-2 div.sk-parallel-item:only-child::after {width: 0;}#sk-container-id-2 div.sk-dashed-wrapped {border: 1px dashed gray;margin: 0 0.4em 0.5em 0.4em;box-sizing: border-box;padding-bottom: 0.4em;background-color: white;}#sk-container-id-2 div.sk-label label {font-family: monospace;font-weight: bold;display: inline-block;line-height: 1.2em;}#sk-container-id-2 div.sk-label-container {text-align: center;}#sk-container-id-2 div.sk-container {/* jupyter's `normalize.less` sets `[hidden] { display: none; }` but bootstrap.min.css set `[hidden] { display: none !important; }` so we also need the `!important` here to be able to override the default hidden behavior on the sphinx rendered scikit-learn.org. See: https://github.com/scikit-learn/scikit-learn/issues/21755 */display: inline-block !important;position: relative;}#sk-container-id-2 div.sk-text-repr-fallback {display: none;}</style><div id=\"sk-container-id-2\" class=\"sk-top-container\"><div class=\"sk-text-repr-fallback\"><pre>GridSearchCV(cv=5, estimator=Ridge(),\n",
              "             param_grid={&#x27;alpha&#x27;: [0.0001, 0.001, 0.01, 0.05, 0.1, 0.2, 0.3,\n",
              "                                   0.4, 0.5, 0.6, 0.7, 0.8, 0.9, 1.0, 2.0, 3.0,\n",
              "                                   4.0, 5.0, 6.0, 7.0, 8.0, 9.0, 10.0, 20, 50,\n",
              "                                   100, 500, 1000]},\n",
              "             return_train_score=True,\n",
              "             scoring=&lt;function r2_score at 0x7fd4ff3d8310&gt;, verbose=1)</pre><b>In a Jupyter environment, please rerun this cell to show the HTML representation or trust the notebook. <br />On GitHub, the HTML representation is unable to render, please try loading this page with nbviewer.org.</b></div><div class=\"sk-container\" hidden><div class=\"sk-item sk-dashed-wrapped\"><div class=\"sk-label-container\"><div class=\"sk-label sk-toggleable\"><input class=\"sk-toggleable__control sk-hidden--visually\" id=\"sk-estimator-id-4\" type=\"checkbox\" ><label for=\"sk-estimator-id-4\" class=\"sk-toggleable__label sk-toggleable__label-arrow\">GridSearchCV</label><div class=\"sk-toggleable__content\"><pre>GridSearchCV(cv=5, estimator=Ridge(),\n",
              "             param_grid={&#x27;alpha&#x27;: [0.0001, 0.001, 0.01, 0.05, 0.1, 0.2, 0.3,\n",
              "                                   0.4, 0.5, 0.6, 0.7, 0.8, 0.9, 1.0, 2.0, 3.0,\n",
              "                                   4.0, 5.0, 6.0, 7.0, 8.0, 9.0, 10.0, 20, 50,\n",
              "                                   100, 500, 1000]},\n",
              "             return_train_score=True,\n",
              "             scoring=&lt;function r2_score at 0x7fd4ff3d8310&gt;, verbose=1)</pre></div></div></div><div class=\"sk-parallel\"><div class=\"sk-parallel-item\"><div class=\"sk-item\"><div class=\"sk-label-container\"><div class=\"sk-label sk-toggleable\"><input class=\"sk-toggleable__control sk-hidden--visually\" id=\"sk-estimator-id-5\" type=\"checkbox\" ><label for=\"sk-estimator-id-5\" class=\"sk-toggleable__label sk-toggleable__label-arrow\">estimator: Ridge</label><div class=\"sk-toggleable__content\"><pre>Ridge()</pre></div></div></div><div class=\"sk-serial\"><div class=\"sk-item\"><div class=\"sk-estimator sk-toggleable\"><input class=\"sk-toggleable__control sk-hidden--visually\" id=\"sk-estimator-id-6\" type=\"checkbox\" ><label for=\"sk-estimator-id-6\" class=\"sk-toggleable__label sk-toggleable__label-arrow\">Ridge</label><div class=\"sk-toggleable__content\"><pre>Ridge()</pre></div></div></div></div></div></div></div></div></div></div>"
            ]
          },
          "metadata": {},
          "execution_count": 92
        }
      ]
    },
    {
      "cell_type": "code",
      "source": [
        "# checking best alpha from model_cv\n",
        "\n",
        "grid_cv_model.best_params_"
      ],
      "metadata": {
        "colab": {
          "base_uri": "https://localhost:8080/"
        },
        "id": "mY1SfSXBBKcM",
        "outputId": "dbce2f87-a42f-4edf-fd87-cfed92797f98"
      },
      "execution_count": null,
      "outputs": [
        {
          "output_type": "execute_result",
          "data": {
            "text/plain": [
              "{'alpha': 0.0001}"
            ]
          },
          "metadata": {},
          "execution_count": 94
        }
      ]
    },
    {
      "cell_type": "markdown",
      "source": [
        "##### Which hyperparameter optimization technique have you used and why?"
      ],
      "metadata": {
        "id": "HAih1iBOpsJ2"
      }
    },
    {
      "cell_type": "markdown",
      "source": [
        "\n",
        "We have used Grid Search because it uses all possible combinations. Then the models are evaluated through cross validation. That is why we have chosen this so that we create a model for each combination of hyperparameters and get the best model with best hyerparameters."
      ],
      "metadata": {
        "id": "9kBgjYcdpsJ2"
      }
    },
    {
      "cell_type": "markdown",
      "source": [],
      "metadata": {
        "id": "9Sc68iq4DCon"
      }
    },
    {
      "cell_type": "markdown",
      "source": [
        "### ML Model 3 - Lasso Regression"
      ],
      "metadata": {
        "id": "DpimkGcP6v0f"
      }
    },
    {
      "cell_type": "code",
      "execution_count": null,
      "metadata": {
        "id": "qkoEKDe5h-O4",
        "colab": {
          "base_uri": "https://localhost:8080/"
        },
        "outputId": "3f282a83-ae95-4ab8-8a96-c178792c1c9a"
      },
      "outputs": [
        {
          "output_type": "stream",
          "name": "stdout",
          "text": [
            "\n",
            "Lasso Model............................................\n",
            "\n",
            "For alpha = 5\n",
            "The train score for ls model is 0.9547601680883107\n",
            "The test score for ls model is 0.9550399758789927\n",
            "\n",
            "Errors :- \n",
            "MSE:-  330701.9295269897\n",
            "RMSE:-  575.0668913500322\n",
            "r2_score:-  0.9550399758789927\n"
          ]
        }
      ],
      "source": [
        "\n",
        "#Lasso regression model\n",
        "print(\"\\nLasso Model............................................\\n\")\n",
        "\n",
        "lasso = Lasso(alpha = 5)\n",
        "\n",
        "lasso.fit(X_train,y_train)\n",
        "\n",
        "#prediction\n",
        "y_pred_las = lasso.predict(X_test)\n",
        "\n",
        "train_score_ls =lasso.score(X_train,y_train)\n",
        "test_score_ls =lasso.score(X_test,y_test)\n"
      ]
    },
    {
      "cell_type": "markdown",
      "source": [
        "#### 1. Explain the ML Model used and it's performance using Evaluation metric Score Chart."
      ],
      "metadata": {
        "id": "hFRKFG8_6v0g"
      }
    },
    {
      "cell_type": "code",
      "source": [
        "# Visualizing evaluation Metric Score chart\n",
        "print(f\"For alpha = {5}\")\n",
        "print(\"The train score for ls model is {}\".format(train_score_ls))\n",
        "print(\"The test score for ls model is {}\".format(test_score_ls))\n",
        "print()\n",
        "print('Errors :- ')\n",
        "calc_errors(y_test, y_pred_las)\n"
      ],
      "metadata": {
        "colab": {
          "base_uri": "https://localhost:8080/"
        },
        "id": "k55l8ABC6v0g",
        "outputId": "7104fcb4-9bed-40b1-c78b-7438e9f5ba1a"
      },
      "execution_count": null,
      "outputs": [
        {
          "output_type": "stream",
          "name": "stdout",
          "text": [
            "For alpha = 5\n",
            "The train score for ls model is 0.9547601680883107\n",
            "The test score for ls model is 0.9550399758789927\n",
            "\n",
            "Errors :- \n",
            "MSE:-  330701.9295269897\n",
            "RMSE:-  575.0668913500322\n",
            "r2_score:-  0.9550399758789927\n"
          ]
        }
      ]
    },
    {
      "cell_type": "markdown",
      "source": [
        "#### 2. Cross- Validation & Hyperparameter Tuning"
      ],
      "metadata": {
        "id": "9GR3Goc36v0g"
      }
    },
    {
      "cell_type": "code",
      "source": [
        "# ML Model - 1 Implementation with hyperparameter optimization techniques (i.e., GridSearch CV, RandomSearch CV, Bayesian Optimization etc.)\n",
        "\n",
        "# Initialising Lasso()\n",
        "lasso = Lasso()\n",
        "\n",
        "#usig same attributes used for Ridge tuning except estimator here would be lasso\n",
        "grid_cv_model = GridSearchCV(estimator=lasso,\n",
        "                       param_grid=params,\n",
        "                       scoring=metrics.get_scorer(r2_score),\n",
        "                       cv=5,\n",
        "                       return_train_score=True,\n",
        "                       verbose=1)\n",
        "#fiting model_cv\n",
        "grid_cv_model.fit(X_train,y_train)"
      ],
      "metadata": {
        "colab": {
          "base_uri": "https://localhost:8080/"
        },
        "id": "DNlr1U_m6v0h",
        "outputId": "68536b58-42b6-41ba-f545-c37e91ae78d5"
      },
      "execution_count": null,
      "outputs": [
        {
          "metadata": {
            "tags": null
          },
          "name": "stdout",
          "output_type": "stream",
          "text": [
            "Fitting 5 folds for each of 28 candidates, totalling 140 fits\n"
          ]
        },
        {
          "output_type": "execute_result",
          "data": {
            "text/plain": [
              "GridSearchCV(cv=5, estimator=Lasso(),\n",
              "             param_grid={'alpha': [0.0001, 0.001, 0.01, 0.05, 0.1, 0.2, 0.3,\n",
              "                                   0.4, 0.5, 0.6, 0.7, 0.8, 0.9, 1.0, 2.0, 3.0,\n",
              "                                   4.0, 5.0, 6.0, 7.0, 8.0, 9.0, 10.0, 20, 50,\n",
              "                                   100, 500, 1000]},\n",
              "             return_train_score=True,\n",
              "             scoring=<function r2_score at 0x7fd4ff3d8310>, verbose=1)"
            ],
            "text/html": [
              "<style>#sk-container-id-3 {color: black;background-color: white;}#sk-container-id-3 pre{padding: 0;}#sk-container-id-3 div.sk-toggleable {background-color: white;}#sk-container-id-3 label.sk-toggleable__label {cursor: pointer;display: block;width: 100%;margin-bottom: 0;padding: 0.3em;box-sizing: border-box;text-align: center;}#sk-container-id-3 label.sk-toggleable__label-arrow:before {content: \"▸\";float: left;margin-right: 0.25em;color: #696969;}#sk-container-id-3 label.sk-toggleable__label-arrow:hover:before {color: black;}#sk-container-id-3 div.sk-estimator:hover label.sk-toggleable__label-arrow:before {color: black;}#sk-container-id-3 div.sk-toggleable__content {max-height: 0;max-width: 0;overflow: hidden;text-align: left;background-color: #f0f8ff;}#sk-container-id-3 div.sk-toggleable__content pre {margin: 0.2em;color: black;border-radius: 0.25em;background-color: #f0f8ff;}#sk-container-id-3 input.sk-toggleable__control:checked~div.sk-toggleable__content {max-height: 200px;max-width: 100%;overflow: auto;}#sk-container-id-3 input.sk-toggleable__control:checked~label.sk-toggleable__label-arrow:before {content: \"▾\";}#sk-container-id-3 div.sk-estimator input.sk-toggleable__control:checked~label.sk-toggleable__label {background-color: #d4ebff;}#sk-container-id-3 div.sk-label input.sk-toggleable__control:checked~label.sk-toggleable__label {background-color: #d4ebff;}#sk-container-id-3 input.sk-hidden--visually {border: 0;clip: rect(1px 1px 1px 1px);clip: rect(1px, 1px, 1px, 1px);height: 1px;margin: -1px;overflow: hidden;padding: 0;position: absolute;width: 1px;}#sk-container-id-3 div.sk-estimator {font-family: monospace;background-color: #f0f8ff;border: 1px dotted black;border-radius: 0.25em;box-sizing: border-box;margin-bottom: 0.5em;}#sk-container-id-3 div.sk-estimator:hover {background-color: #d4ebff;}#sk-container-id-3 div.sk-parallel-item::after {content: \"\";width: 100%;border-bottom: 1px solid gray;flex-grow: 1;}#sk-container-id-3 div.sk-label:hover label.sk-toggleable__label {background-color: #d4ebff;}#sk-container-id-3 div.sk-serial::before {content: \"\";position: absolute;border-left: 1px solid gray;box-sizing: border-box;top: 0;bottom: 0;left: 50%;z-index: 0;}#sk-container-id-3 div.sk-serial {display: flex;flex-direction: column;align-items: center;background-color: white;padding-right: 0.2em;padding-left: 0.2em;position: relative;}#sk-container-id-3 div.sk-item {position: relative;z-index: 1;}#sk-container-id-3 div.sk-parallel {display: flex;align-items: stretch;justify-content: center;background-color: white;position: relative;}#sk-container-id-3 div.sk-item::before, #sk-container-id-3 div.sk-parallel-item::before {content: \"\";position: absolute;border-left: 1px solid gray;box-sizing: border-box;top: 0;bottom: 0;left: 50%;z-index: -1;}#sk-container-id-3 div.sk-parallel-item {display: flex;flex-direction: column;z-index: 1;position: relative;background-color: white;}#sk-container-id-3 div.sk-parallel-item:first-child::after {align-self: flex-end;width: 50%;}#sk-container-id-3 div.sk-parallel-item:last-child::after {align-self: flex-start;width: 50%;}#sk-container-id-3 div.sk-parallel-item:only-child::after {width: 0;}#sk-container-id-3 div.sk-dashed-wrapped {border: 1px dashed gray;margin: 0 0.4em 0.5em 0.4em;box-sizing: border-box;padding-bottom: 0.4em;background-color: white;}#sk-container-id-3 div.sk-label label {font-family: monospace;font-weight: bold;display: inline-block;line-height: 1.2em;}#sk-container-id-3 div.sk-label-container {text-align: center;}#sk-container-id-3 div.sk-container {/* jupyter's `normalize.less` sets `[hidden] { display: none; }` but bootstrap.min.css set `[hidden] { display: none !important; }` so we also need the `!important` here to be able to override the default hidden behavior on the sphinx rendered scikit-learn.org. See: https://github.com/scikit-learn/scikit-learn/issues/21755 */display: inline-block !important;position: relative;}#sk-container-id-3 div.sk-text-repr-fallback {display: none;}</style><div id=\"sk-container-id-3\" class=\"sk-top-container\"><div class=\"sk-text-repr-fallback\"><pre>GridSearchCV(cv=5, estimator=Lasso(),\n",
              "             param_grid={&#x27;alpha&#x27;: [0.0001, 0.001, 0.01, 0.05, 0.1, 0.2, 0.3,\n",
              "                                   0.4, 0.5, 0.6, 0.7, 0.8, 0.9, 1.0, 2.0, 3.0,\n",
              "                                   4.0, 5.0, 6.0, 7.0, 8.0, 9.0, 10.0, 20, 50,\n",
              "                                   100, 500, 1000]},\n",
              "             return_train_score=True,\n",
              "             scoring=&lt;function r2_score at 0x7fd4ff3d8310&gt;, verbose=1)</pre><b>In a Jupyter environment, please rerun this cell to show the HTML representation or trust the notebook. <br />On GitHub, the HTML representation is unable to render, please try loading this page with nbviewer.org.</b></div><div class=\"sk-container\" hidden><div class=\"sk-item sk-dashed-wrapped\"><div class=\"sk-label-container\"><div class=\"sk-label sk-toggleable\"><input class=\"sk-toggleable__control sk-hidden--visually\" id=\"sk-estimator-id-7\" type=\"checkbox\" ><label for=\"sk-estimator-id-7\" class=\"sk-toggleable__label sk-toggleable__label-arrow\">GridSearchCV</label><div class=\"sk-toggleable__content\"><pre>GridSearchCV(cv=5, estimator=Lasso(),\n",
              "             param_grid={&#x27;alpha&#x27;: [0.0001, 0.001, 0.01, 0.05, 0.1, 0.2, 0.3,\n",
              "                                   0.4, 0.5, 0.6, 0.7, 0.8, 0.9, 1.0, 2.0, 3.0,\n",
              "                                   4.0, 5.0, 6.0, 7.0, 8.0, 9.0, 10.0, 20, 50,\n",
              "                                   100, 500, 1000]},\n",
              "             return_train_score=True,\n",
              "             scoring=&lt;function r2_score at 0x7fd4ff3d8310&gt;, verbose=1)</pre></div></div></div><div class=\"sk-parallel\"><div class=\"sk-parallel-item\"><div class=\"sk-item\"><div class=\"sk-label-container\"><div class=\"sk-label sk-toggleable\"><input class=\"sk-toggleable__control sk-hidden--visually\" id=\"sk-estimator-id-8\" type=\"checkbox\" ><label for=\"sk-estimator-id-8\" class=\"sk-toggleable__label sk-toggleable__label-arrow\">estimator: Lasso</label><div class=\"sk-toggleable__content\"><pre>Lasso()</pre></div></div></div><div class=\"sk-serial\"><div class=\"sk-item\"><div class=\"sk-estimator sk-toggleable\"><input class=\"sk-toggleable__control sk-hidden--visually\" id=\"sk-estimator-id-9\" type=\"checkbox\" ><label for=\"sk-estimator-id-9\" class=\"sk-toggleable__label sk-toggleable__label-arrow\">Lasso</label><div class=\"sk-toggleable__content\"><pre>Lasso()</pre></div></div></div></div></div></div></div></div></div></div>"
            ]
          },
          "metadata": {},
          "execution_count": 98
        }
      ]
    },
    {
      "cell_type": "code",
      "source": [
        "# Checking best  alpha from model_cv\n",
        "\n",
        "grid_cv_model.best_params_"
      ],
      "metadata": {
        "colab": {
          "base_uri": "https://localhost:8080/"
        },
        "id": "00XUESjyJ_Hy",
        "outputId": "c7e8a73a-4c45-463e-e448-51d07d414d53"
      },
      "execution_count": null,
      "outputs": [
        {
          "output_type": "execute_result",
          "data": {
            "text/plain": [
              "{'alpha': 0.0001}"
            ]
          },
          "metadata": {},
          "execution_count": 100
        }
      ]
    },
    {
      "cell_type": "markdown",
      "source": [
        "##### Which hyperparameter optimization technique have you used and why?"
      ],
      "metadata": {
        "id": "IaEmxSWO6v0h"
      }
    },
    {
      "cell_type": "markdown",
      "source": [
        "\n",
        "We have used Grid Search because it uses all possible combinations. Then the models are evaluated through cross validation. That is why we have chosen this so that we create a model for each combination of hyperparameters and get the best model with best hyerparameters."
      ],
      "metadata": {
        "id": "XdHlnwj-KG3s"
      }
    }
  ],
  "metadata": {
    "colab": {
      "collapsed_sections": [
        "VlyRVvUIMxD4",
        "v1m2HS9nMxD5",
        "ugi1Xn7H83mX",
        "FALGCf65SCfm",
        "rwE8cdtFovhJ",
        "AT4NhmK_GZne",
        "1pWG4O6o62Bj",
        "H6WMHjDEjSET",
        "7EwjdIauoDls",
        "pppBAwqGtJ7O",
        "icoM2AoftQKR",
        "mLeB_ORwtQab",
        "CYIxmYsQtQmi",
        "ZtAqekPc3jLL",
        "_W6DJhjZ4IOX",
        "OS1dBQrg4IXo",
        "yLjJCtPM0KBk",
        "amcsKw5fxrnT",
        "5NP0jN5E1uw9",
        "92TazTIM32cM",
        "GtMGy1Vz6S-L",
        "QYH_Doax8u9f",
        "Keuyk65m524x",
        "YMrBRLOd55uQ",
        "OB4l2ZhMeS1U"
      ],
      "provenance": [],
      "include_colab_link": true
    },
    "kernelspec": {
      "display_name": "Python 3",
      "name": "python3"
    },
    "language_info": {
      "name": "python"
    }
  },
  "nbformat": 4,
  "nbformat_minor": 0
}
